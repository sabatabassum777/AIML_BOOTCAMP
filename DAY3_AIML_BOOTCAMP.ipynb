{
  "nbformat": 4,
  "nbformat_minor": 0,
  "metadata": {
    "colab": {
      "name": "DAY3_AIML_BOOTCAMP.ipynb",
      "provenance": [],
      "collapsed_sections": [],
      "authorship_tag": "ABX9TyNK/vGq5b2jMuSrv9EW++QO",
      "include_colab_link": true
    },
    "kernelspec": {
      "name": "python3",
      "display_name": "Python 3"
    },
    "language_info": {
      "name": "python"
    }
  },
  "cells": [
    {
      "cell_type": "markdown",
      "metadata": {
        "id": "view-in-github",
        "colab_type": "text"
      },
      "source": [
        "<a href=\"https://colab.research.google.com/github/sabatabassum777/AIML_BOOTCAMP/blob/main/DAY3_AIML_BOOTCAMP.ipynb\" target=\"_parent\"><img src=\"https://colab.research.google.com/assets/colab-badge.svg\" alt=\"Open In Colab\"/></a>"
      ]
    },
    {
      "cell_type": "code",
      "execution_count": null,
      "metadata": {
        "colab": {
          "base_uri": "https://localhost:8080/"
        },
        "id": "vdOu9t_4C7TZ",
        "outputId": "9e12e596-9c0c-46aa-8bc8-00652848c10b"
      },
      "outputs": [
        {
          "output_type": "stream",
          "name": "stdout",
          "text": [
            "addition of 2 number is: 10\n",
            "subtraction of 2 number is: 0\n",
            "multiplication of 2 number is: 25\n"
          ]
        }
      ],
      "source": [
        "#object oriented\n",
        "#classes and object\n",
        "class co:\n",
        "  def addn(self,a,b):\n",
        "    return a+b\n",
        "  def subn(self,a,b):\n",
        "    return a-b\n",
        "  def mul(self,a,b):\n",
        "    return a*b\n",
        "  \n",
        "obj=co()\n",
        "print(\"addition of 2 number is:\",obj.addn(5,5))\n",
        "print(\"subtraction of 2 number is:\",obj.subn(5,5))\n",
        "print(\"multiplication of 2 number is:\",obj.mul(5,5))\n"
      ]
    },
    {
      "cell_type": "code",
      "source": [
        "class c1:\n",
        "  ''' description'''\n",
        "  class_var=\"demonstrates class creation\"\n",
        "  def cm(self):\n",
        "    return \"method invocation\"\n",
        "  def __str__(self):\n",
        "      return \"return string to object\"\n",
        "obj1=c1()\n",
        "print(obj1.class_var)\n",
        "print(obj1.cm())\n",
        "print(obj1)"
      ],
      "metadata": {
        "colab": {
          "base_uri": "https://localhost:8080/"
        },
        "id": "YZ7IdyzrEAYE",
        "outputId": "c857b9e2-8cb0-4fff-a492-dd86d31f01ff"
      },
      "execution_count": null,
      "outputs": [
        {
          "output_type": "stream",
          "name": "stdout",
          "text": [
            "demonstrates class creation\n",
            "method invocation\n",
            "return string to object\n"
          ]
        }
      ]
    },
    {
      "cell_type": "code",
      "source": [
        "class c2:\n",
        "  ''' arthimetic operations'''\n",
        "  class_var=\"Arithmetic opeations\"\n",
        "  def addn(self):\n",
        "    return 5+5\n",
        "  def subn(Self):\n",
        "    return 10-5\n",
        "  def multi(self):\n",
        "      return 5*10\n",
        "  def div(self):\n",
        "      return 50/10\n",
        "  def div1(self):\n",
        "      return 500//10\n",
        "obj1=c2()\n",
        "print(obj1.class_var)\n",
        "print(obj1.addn())\n",
        "print(obj1.subn())\n",
        "print(obj1.multi())\n",
        "print(obj1.div())\n",
        "print(obj1.div1())"
      ],
      "metadata": {
        "colab": {
          "base_uri": "https://localhost:8080/"
        },
        "id": "tzo25ydJFUET",
        "outputId": "9124b3b9-9c4a-4e22-eac0-e38fb53b23cc"
      },
      "execution_count": null,
      "outputs": [
        {
          "output_type": "stream",
          "name": "stdout",
          "text": [
            "Arithmetic opeations\n",
            "10\n",
            "5\n",
            "50\n",
            "5.0\n",
            "50\n"
          ]
        }
      ]
    },
    {
      "cell_type": "code",
      "source": [
        "#multiple objects\n",
        "class c2:\n",
        "  ''' arthimetic operations'''\n",
        "  class_var=\"Arithmetic opeations\"\n",
        "  def addn(self):\n",
        "    return 5+5\n",
        "  def subn(Self):\n",
        "    return 10-5\n",
        "  def multi(self):\n",
        "      return 5*10\n",
        "  def div(self):\n",
        "      return 50/10\n",
        "  def div1(self):\n",
        "      return 500//10\n",
        "obj1=c2()\n",
        "obj2=c2()\n",
        "print(obj1.addn())\n",
        "print(obj1.subn())\n",
        "\n",
        "print(obj2.multi())\n",
        "print(obj2.div())\n",
        "print(obj2.div1())"
      ],
      "metadata": {
        "colab": {
          "base_uri": "https://localhost:8080/"
        },
        "id": "u7keHQUDGo3t",
        "outputId": "107d9630-ff65-4d83-c3a2-5ac36e1c7630"
      },
      "execution_count": null,
      "outputs": [
        {
          "output_type": "stream",
          "name": "stdout",
          "text": [
            "10\n",
            "5\n",
            "50\n",
            "5.0\n",
            "50\n"
          ]
        }
      ]
    },
    {
      "cell_type": "code",
      "source": [
        "#inheritance#single inheritance\n",
        "class animal:\n",
        "  def animal_sounds(self):\n",
        "    return \"makes sound\"\n",
        "class cat(animal):\n",
        "  def cat_sound(self):\n",
        "    return self.animal_sounds()+\"MEOW\"\n",
        "  def __str__(self):\n",
        "    return \"CAT\"\n",
        "catobj=cat()\n",
        "print(catobj,catobj.cat_sound())"
      ],
      "metadata": {
        "colab": {
          "base_uri": "https://localhost:8080/"
        },
        "id": "DxnHr8OkHaIo",
        "outputId": "de0878cf-bf71-434b-9065-0b4a9f45fda0"
      },
      "execution_count": null,
      "outputs": [
        {
          "output_type": "stream",
          "name": "stdout",
          "text": [
            "CAT makes soundMEOW\n"
          ]
        }
      ]
    },
    {
      "cell_type": "code",
      "source": [
        "class animal:\n",
        "  def animal_sounds(self):\n",
        "    return \"makes sound\"\n",
        "class cat(animal):\n",
        "  def cat_sound(self):\n",
        "    return self.animal_sounds()+\"MEOW\"\n",
        "  def __str__(self):\n",
        "    return \"CAT\"\n",
        "\n",
        "class dog(animal):\n",
        "  def dog_sound(self):\n",
        "    return self.animal_sounds()+\"BOW\"\n",
        "  def __str__(self):\n",
        "    return \"DOG\"\n",
        "catobj=cat()\n",
        "print(catobj,catobj.cat_sound())\n",
        "dogobj=dog()\n",
        "print(dogobj,dogobj.dog_sound())"
      ],
      "metadata": {
        "colab": {
          "base_uri": "https://localhost:8080/"
        },
        "id": "ZjRH_8pqImH3",
        "outputId": "582bdbc4-5cb6-4901-b1b1-ab6505dd2edc"
      },
      "execution_count": null,
      "outputs": [
        {
          "output_type": "stream",
          "name": "stdout",
          "text": [
            "CAT makes soundMEOW\n",
            "DOG makes soundBOW\n"
          ]
        }
      ]
    },
    {
      "cell_type": "code",
      "source": [
        "#multilevel inheritance\n",
        "class animal:\n",
        "  def animal_sounds(self):\n",
        "    return \"makes sound\"\n",
        "class cat(animal):\n",
        "  def cat_sound(self):\n",
        "    return self.animal_sounds()+\"MEOW\"\n",
        "class catcolor(cat):\n",
        "  def __str__(self):\n",
        "    return \"CAT\"\n",
        "  def color(self):\n",
        "      return \"color is black\"\n",
        "catcolor=catcolor()\n",
        "print(catcolor,catcolor.cat_sound())\n",
        "print(catcolor,catcolor.color())"
      ],
      "metadata": {
        "colab": {
          "base_uri": "https://localhost:8080/"
        },
        "id": "tJkvqNXXJRk5",
        "outputId": "52672c63-5eb9-4c8b-9d22-caa87bbac66f"
      },
      "execution_count": null,
      "outputs": [
        {
          "output_type": "stream",
          "name": "stdout",
          "text": [
            "CAT makes soundMEOW\n",
            "CAT color is black\n"
          ]
        }
      ]
    },
    {
      "cell_type": "code",
      "source": [
        "class animal:\n",
        "  def animal_sounds(self):\n",
        "    return \"makes sound\"\n",
        "class dog(animal):\n",
        "  def dog_sound(self):\n",
        "    return self.animal_sounds()+\"BOW\"\n",
        "class dogcolor(dog):\n",
        "  def __str__(self):\n",
        "    return \"DOG\"\n",
        "  def color(self):\n",
        "    return \"color is brown\"\n",
        "dogcol=dogcolor()\n",
        "print(dogcolor(),dogcol.dog_sound())\n",
        "print(dogcolor(),dogcol.color())"
      ],
      "metadata": {
        "colab": {
          "base_uri": "https://localhost:8080/"
        },
        "id": "nLnCMdkuKECU",
        "outputId": "d0bba788-6ea6-4a44-b528-e5be9ae9cb6d"
      },
      "execution_count": null,
      "outputs": [
        {
          "output_type": "stream",
          "name": "stdout",
          "text": [
            "DOG makes soundBOW\n",
            "DOG color is brown\n"
          ]
        }
      ]
    },
    {
      "cell_type": "code",
      "source": [
        "#exceptions\n",
        "#name error\n",
        "print(x)"
      ],
      "metadata": {
        "colab": {
          "base_uri": "https://localhost:8080/",
          "height": 200
        },
        "id": "i_aubVp6LmUH",
        "outputId": "83915b6a-8843-48ee-8f75-86163aee96f2"
      },
      "execution_count": null,
      "outputs": [
        {
          "output_type": "error",
          "ename": "NameError",
          "evalue": "ignored",
          "traceback": [
            "\u001b[0;31m---------------------------------------------------------------------------\u001b[0m",
            "\u001b[0;31mNameError\u001b[0m                                 Traceback (most recent call last)",
            "\u001b[0;32m<ipython-input-26-c331dd6612bc>\u001b[0m in \u001b[0;36m<module>\u001b[0;34m()\u001b[0m\n\u001b[1;32m      1\u001b[0m \u001b[0;31m#exceptions\u001b[0m\u001b[0;34m\u001b[0m\u001b[0;34m\u001b[0m\u001b[0;34m\u001b[0m\u001b[0m\n\u001b[1;32m      2\u001b[0m \u001b[0;31m#name error\u001b[0m\u001b[0;34m\u001b[0m\u001b[0;34m\u001b[0m\u001b[0;34m\u001b[0m\u001b[0m\n\u001b[0;32m----> 3\u001b[0;31m \u001b[0mprint\u001b[0m\u001b[0;34m(\u001b[0m\u001b[0mx\u001b[0m\u001b[0;34m)\u001b[0m\u001b[0;34m\u001b[0m\u001b[0;34m\u001b[0m\u001b[0m\n\u001b[0m",
            "\u001b[0;31mNameError\u001b[0m: name 'x' is not defined"
          ]
        }
      ]
    },
    {
      "cell_type": "code",
      "source": [
        "#name\n",
        "try:\n",
        "  print(x)\n",
        "except NameError as ne:\n",
        "  print(\"exception occured\",ne)\n",
        "print(\"executed\")"
      ],
      "metadata": {
        "colab": {
          "base_uri": "https://localhost:8080/"
        },
        "id": "EuHT8VvRMJgF",
        "outputId": "548ef4db-d66e-496f-85a1-97695dea08f6"
      },
      "execution_count": null,
      "outputs": [
        {
          "output_type": "stream",
          "name": "stdout",
          "text": [
            "exception occured name 'x' is not defined\n",
            "executed\n"
          ]
        }
      ]
    },
    {
      "cell_type": "code",
      "source": [
        "#value error\n",
        "a=\"25 xyz\"\n",
        "print(int(a))"
      ],
      "metadata": {
        "colab": {
          "base_uri": "https://localhost:8080/",
          "height": 200
        },
        "id": "KsUy5SjNMiXM",
        "outputId": "23216976-b8f3-4c78-f178-919d7ff1273d"
      },
      "execution_count": null,
      "outputs": [
        {
          "output_type": "error",
          "ename": "ValueError",
          "evalue": "ignored",
          "traceback": [
            "\u001b[0;31m---------------------------------------------------------------------------\u001b[0m",
            "\u001b[0;31mValueError\u001b[0m                                Traceback (most recent call last)",
            "\u001b[0;32m<ipython-input-31-d7f61ebe063d>\u001b[0m in \u001b[0;36m<module>\u001b[0;34m()\u001b[0m\n\u001b[1;32m      1\u001b[0m \u001b[0;31m#value error\u001b[0m\u001b[0;34m\u001b[0m\u001b[0;34m\u001b[0m\u001b[0;34m\u001b[0m\u001b[0m\n\u001b[1;32m      2\u001b[0m \u001b[0ma\u001b[0m\u001b[0;34m=\u001b[0m\u001b[0;34m\"25 xyz\"\u001b[0m\u001b[0;34m\u001b[0m\u001b[0;34m\u001b[0m\u001b[0m\n\u001b[0;32m----> 3\u001b[0;31m \u001b[0mprint\u001b[0m\u001b[0;34m(\u001b[0m\u001b[0mint\u001b[0m\u001b[0;34m(\u001b[0m\u001b[0ma\u001b[0m\u001b[0;34m)\u001b[0m\u001b[0;34m)\u001b[0m\u001b[0;34m\u001b[0m\u001b[0;34m\u001b[0m\u001b[0m\n\u001b[0m",
            "\u001b[0;31mValueError\u001b[0m: invalid literal for int() with base 10: '25 xyz'"
          ]
        }
      ]
    },
    {
      "cell_type": "code",
      "source": [
        "#value error\n",
        "a='25 xyz'\n",
        "try:\n",
        "  print(int(a))\n",
        "except ValueError as ve:\n",
        "  print(\"exception occured:\",ve)"
      ],
      "metadata": {
        "colab": {
          "base_uri": "https://localhost:8080/"
        },
        "id": "dFusn_qWM22U",
        "outputId": "6cd12c7f-08ca-445d-a6ed-52f99fbb79e9"
      },
      "execution_count": null,
      "outputs": [
        {
          "output_type": "stream",
          "name": "stdout",
          "text": [
            "exception occured: invalid literal for int() with base 10: '25 xyz'\n"
          ]
        }
      ]
    },
    {
      "cell_type": "code",
      "source": [
        "#zero division error\n",
        "a=5\n",
        "b=0\n",
        "try:\n",
        "  print(a/b)\n",
        "except ZeroDivisionError as z:\n",
        "  print(\"Cannot divided by \",z)"
      ],
      "metadata": {
        "colab": {
          "base_uri": "https://localhost:8080/"
        },
        "id": "gFAiZtN3NI_X",
        "outputId": "cd2d71ee-a68a-4d52-8d5d-4bbf8d80f84f"
      },
      "execution_count": null,
      "outputs": [
        {
          "output_type": "stream",
          "name": "stdout",
          "text": [
            "Cannot divided by  division by zero\n"
          ]
        }
      ]
    },
    {
      "cell_type": "code",
      "source": [
        "#exception handling\n",
        "#2003\n",
        "class INVALIDSTUDENTID(Exception):\n",
        "  pass\n",
        "stid=input(\"enter student id\")\n",
        "try:\n",
        "  if stid[:4]!=\"2003\":\n",
        "     raise INVALIDSTUDENTID\n",
        "except INVALIDSTUDENTID:\n",
        "  print(\"error raised due to invalid detials\")\n",
        "print(\"details verified\")"
      ],
      "metadata": {
        "colab": {
          "base_uri": "https://localhost:8080/"
        },
        "id": "dV3isM8vNl7V",
        "outputId": "1c365906-155a-44bb-aca2-3d0b546fba5b"
      },
      "execution_count": null,
      "outputs": [
        {
          "output_type": "stream",
          "name": "stdout",
          "text": [
            "enter student id2003\n",
            "details verified\n"
          ]
        }
      ]
    },
    {
      "cell_type": "code",
      "source": [
        "class INVALIDSTUDENTID(Exception):\n",
        " def __str__(self):\n",
        "   return \"error raised\"\n",
        "stid=input(\"enter student id\")\n",
        "try:\n",
        "  if stid[:4]!=\"2003\":\n",
        "     raise INVALIDSTUDENTID\n",
        "except INVALIDSTUDENTID as invalid:\n",
        "  print(invalid)\n",
        "print(\"details verified\")"
      ],
      "metadata": {
        "colab": {
          "base_uri": "https://localhost:8080/"
        },
        "id": "JfnF8tWFOyt-",
        "outputId": "51ef4e8b-5726-4387-d867-4f0d276d9dfc"
      },
      "execution_count": null,
      "outputs": [
        {
          "output_type": "stream",
          "name": "stdout",
          "text": [
            "enter student id2006\n",
            "error raised\n",
            "details verified\n"
          ]
        }
      ]
    },
    {
      "cell_type": "code",
      "source": [
        "#implement exception handling for age of voter\n",
        "class INVALIDVOTERAGE(Exception):\n",
        "  def __str__(self):\n",
        "    return \"error raised\"\n",
        "age=int(input(\"enter age:\"))\n",
        "try:\n",
        "  if age<18:\n",
        "    raise INVALIDVOTERAGE\n",
        "except INVALIDVOTERAGE as invalid:\n",
        "  print(invalid)\n",
        "print(\"details verified\")\n",
        "\n"
      ],
      "metadata": {
        "colab": {
          "base_uri": "https://localhost:8080/"
        },
        "id": "MRCtIaxWPbkT",
        "outputId": "10463153-bbca-4fd1-bd39-5df6aa8b3f7e"
      },
      "execution_count": null,
      "outputs": [
        {
          "output_type": "stream",
          "name": "stdout",
          "text": [
            "enter age:15\n",
            "error raised\n",
            "details verified\n"
          ]
        }
      ]
    },
    {
      "cell_type": "code",
      "source": [
        "f=open(\"sample.txt\",\"w\")\n",
        "f.write(\"WELCOME\")\n",
        "f.close()"
      ],
      "metadata": {
        "id": "RxykfaznjAVA"
      },
      "execution_count": null,
      "outputs": []
    },
    {
      "cell_type": "code",
      "source": [
        "f=open(\"sample.txt\",\"r\")\n",
        "print(f.read())\n",
        "f.close()\n"
      ],
      "metadata": {
        "colab": {
          "base_uri": "https://localhost:8080/"
        },
        "id": "c49MqzYCjMyY",
        "outputId": "996dec29-7de3-44d3-e852-77bcbfb89759"
      },
      "execution_count": null,
      "outputs": [
        {
          "output_type": "stream",
          "name": "stdout",
          "text": [
            "WELCOME\n"
          ]
        }
      ]
    },
    {
      "cell_type": "code",
      "source": [
        "import os\n",
        "#os.remove(\"sample.txt\")"
      ],
      "metadata": {
        "id": "8nU-9RP5jczd"
      },
      "execution_count": null,
      "outputs": []
    },
    {
      "cell_type": "code",
      "source": [
        "f=open(\"sample.txt\",\"r\")\n",
        "print(f.read(3))\n",
        "print(f.tell())\n",
        "print(f.seek(2))\n",
        "print(f.seek(0))\n",
        "print(f.readline())\n",
        "print(f.readlines())\n",
        "f.close()"
      ],
      "metadata": {
        "colab": {
          "base_uri": "https://localhost:8080/"
        },
        "id": "IHjZ0FhljUh0",
        "outputId": "58d1b3c9-e80d-469d-8342-f3ecfcae2b9b"
      },
      "execution_count": null,
      "outputs": [
        {
          "output_type": "stream",
          "name": "stdout",
          "text": [
            "WEL\n",
            "3\n",
            "2\n",
            "0\n",
            "WELCOME\n",
            "[]\n"
          ]
        }
      ]
    },
    {
      "cell_type": "code",
      "source": [
        "f1=open(\"f1.txt\",\"x\")\n",
        "f2=open(\"f2.txt\",\"x\")"
      ],
      "metadata": {
        "id": "DFLXl2J8j8WU"
      },
      "execution_count": null,
      "outputs": []
    },
    {
      "cell_type": "code",
      "source": [
        "f1=open(\"f1.txt\",\"w\")\n",
        "f1.write(\"CopyPASTE\")\n",
        "f1.close()"
      ],
      "metadata": {
        "id": "uktTe8P6kEG5"
      },
      "execution_count": null,
      "outputs": []
    },
    {
      "cell_type": "code",
      "source": [
        "f1=open(\"f1.txt\",\"r\")\n",
        "temp=f1.read()\n",
        "f1.close()\n",
        "\n",
        "f2=open(\"f2.txt\",\"w\")\n",
        "f2.write(temp)\n",
        "\n",
        "\n",
        "f2.close()"
      ],
      "metadata": {
        "id": "AyhZ9ORgkNJL"
      },
      "execution_count": null,
      "outputs": []
    },
    {
      "cell_type": "code",
      "source": [
        "#append\n",
        "#reverse palindrome\n",
        "#print even numbers\n",
        "#print odd numbers"
      ],
      "metadata": {
        "id": "Z5LHWESGk8Z-"
      },
      "execution_count": null,
      "outputs": []
    },
    {
      "cell_type": "code",
      "source": [
        "#append-question1\n",
        "f1=open(\"f1.txt\",\"a\")\n",
        "f1.write(\"Fish in the Bin\")\n",
        "f1=open(\"f1.txt\",\"r\")\n",
        "print(f1.read())\n",
        "f1.close()"
      ],
      "metadata": {
        "colab": {
          "base_uri": "https://localhost:8080/"
        },
        "id": "_uWwEdOqlxow",
        "outputId": "6cd8efb8-307e-463f-e2cd-3a9aa2fd5365"
      },
      "execution_count": null,
      "outputs": [
        {
          "output_type": "stream",
          "name": "stdout",
          "text": [
            "CopyPASTEFish in the Bin\n"
          ]
        }
      ]
    },
    {
      "cell_type": "code",
      "source": [
        "#pickle\n",
        "import pickle\n",
        "mylist=['a','b','c','d']\n",
        "f3=open(\"datafile1.txt\",\"wb\")\n",
        "pickle.dump(mylist,f3)\n",
        "f3.close()\n",
        "\n",
        "#unpickling\n",
        "import pickle\n",
        "pickle_off=open(\"datafile1.txt\",\"rb\")\n",
        "e=pickle.load(pickle_off)\n",
        "print(e)"
      ],
      "metadata": {
        "colab": {
          "base_uri": "https://localhost:8080/"
        },
        "id": "Z3u68aWEnI8M",
        "outputId": "f6310e3b-cae6-47fd-9033-497c6c4fd50a"
      },
      "execution_count": null,
      "outputs": [
        {
          "output_type": "stream",
          "name": "stdout",
          "text": [
            "['a', 'b', 'c', 'd']\n"
          ]
        }
      ]
    },
    {
      "cell_type": "code",
      "source": [
        "#pickle\n",
        "import pickle\n",
        "mylist=['a','b','c','d']\n",
        "with open(\"datafile.txt\",\"wb\") as f4:\n",
        "  pickle.dump(mylist,f4)\n",
        "#unpickling\n",
        "import pickle\n",
        "pickle_off=open(\"datafile1.txt\",\"rb\")\n",
        "e=pickle.load(pickle_off)\n",
        "print(e)"
      ],
      "metadata": {
        "colab": {
          "base_uri": "https://localhost:8080/"
        },
        "id": "HDIgc_sWojcn",
        "outputId": "cb6bb87c-8e3a-4b2d-89de-b789261eb0f1"
      },
      "execution_count": null,
      "outputs": [
        {
          "output_type": "stream",
          "name": "stdout",
          "text": [
            "['a', 'b', 'c', 'd']\n"
          ]
        }
      ]
    },
    {
      "cell_type": "code",
      "source": [
        "#regular expression\n",
        "import re\n",
        "pattern=r\"COOKIE\"\n",
        "sequence=(\"cookie\")\n",
        "if re.match(pattern,sequence):\n",
        "  print(\"match\")\n",
        "else:\n",
        "  print(\"not a match\")"
      ],
      "metadata": {
        "colab": {
          "base_uri": "https://localhost:8080/"
        },
        "id": "DDdHIawKpsee",
        "outputId": "33eda211-5004-4544-cbc6-b849dd78ec30"
      },
      "execution_count": null,
      "outputs": [
        {
          "output_type": "stream",
          "name": "stdout",
          "text": [
            "not a match\n"
          ]
        }
      ]
    },
    {
      "cell_type": "code",
      "source": [
        "import re\n",
        "ph=input(\"enter a mobile number\")\n",
        "print(re.search(r'\\d{10}',ph).group())"
      ],
      "metadata": {
        "colab": {
          "base_uri": "https://localhost:8080/"
        },
        "id": "sUl4IF8UqFfT",
        "outputId": "444918fb-498a-428e-abbb-1390ecef92e4"
      },
      "execution_count": null,
      "outputs": [
        {
          "output_type": "stream",
          "name": "stdout",
          "text": [
            "enter a mobile number8106779604\n",
            "8106779604\n"
          ]
        }
      ]
    },
    {
      "cell_type": "code",
      "source": [
        "import re\n",
        "mail=input(\"enter a mail: \")\n",
        "str1=r'[A-Za-z0-9.-]+@[A-Za-z0-9.-]+[A-Z|a-z]{2,}'\n",
        "print(re.search(str1,mail).group())"
      ],
      "metadata": {
        "colab": {
          "base_uri": "https://localhost:8080/"
        },
        "id": "KWq59zreqmC2",
        "outputId": "8bd6a638-09eb-41b5-9163-e886adace0b3"
      },
      "execution_count": null,
      "outputs": [
        {
          "output_type": "stream",
          "name": "stdout",
          "text": [
            "enter a mail: saba@gmail.com\n",
            "saba@gmail.com\n"
          ]
        }
      ]
    },
    {
      "cell_type": "code",
      "source": [
        "#checking  files content is same or not\n",
        "f1=open(\"f1.txt\",\"w\")\n",
        "f1.write(\"MADAM\")\n",
        "f2=open(\"f2.txt\",\"w\")\n",
        "f2.write(\"MADAM\")\n",
        "f1=open(\"f1.txt\",\"r\")\n",
        "f2=open(\"f1.txt\",\"r\")\n",
        "if f1.read()==f2.read():\n",
        "  print(\"Both are equal\")\n",
        "else:\n",
        "  print(\"Both are not equal\")\n"
      ],
      "metadata": {
        "colab": {
          "base_uri": "https://localhost:8080/"
        },
        "id": "kHx93urTX-Hj",
        "outputId": "a7e9e90b-de70-4d33-b91c-8c30538f61d0"
      },
      "execution_count": null,
      "outputs": [
        {
          "output_type": "stream",
          "name": "stdout",
          "text": [
            "Both are equal\n"
          ]
        }
      ]
    },
    {
      "cell_type": "code",
      "source": [
        "# reverse and palindrome-question 2\n",
        "f1=open(\"f1.txt\",\"w\")\n",
        "f1.write(\"MADAM\")\n",
        "f1=open(\"f1.txt\",\"r\")\n",
        "str=f1.read()\n",
        "rev=str[::-1]\n",
        "if(str==rev):\n",
        "  print(\"Palindrom\")\n",
        "else:\n",
        "  print(\"Not a Palindrome\")"
      ],
      "metadata": {
        "colab": {
          "base_uri": "https://localhost:8080/"
        },
        "id": "SNvZXw41ZMcF",
        "outputId": "672ad3f4-389a-445f-8baa-9fa86a9f8e68"
      },
      "execution_count": null,
      "outputs": [
        {
          "output_type": "stream",
          "name": "stdout",
          "text": [
            "Palindrom\n"
          ]
        }
      ]
    },
    {
      "cell_type": "code",
      "source": [
        "# reverse and palindrome\n",
        "f1=open(\"f1.txt\",\"w\")\n",
        "f1.write(\"FISH\")\n",
        "f1=open(\"f1.txt\",\"r\")\n",
        "str=f1.read()\n",
        "rev=str[::-1]\n",
        "if(str==rev):\n",
        "  print(\"Palindrom\")\n",
        "else:\n",
        "  print(\"Not a Palindrome\")"
      ],
      "metadata": {
        "colab": {
          "base_uri": "https://localhost:8080/"
        },
        "id": "MBzFhhWDaWZR",
        "outputId": "94ad8911-93e7-4576-c77b-973bbcfcd2b5"
      },
      "execution_count": null,
      "outputs": [
        {
          "output_type": "stream",
          "name": "stdout",
          "text": [
            "Not a Palindrome\n"
          ]
        }
      ]
    },
    {
      "cell_type": "code",
      "source": [
        "#even or odd numbers             #storing numbers in file 1-question 3&4\n",
        "f1=open(\"f1.txt\",\"r\")                                     #2\n",
        "li=[]                                                     #3\n",
        "for i in f1.readlines():                                  #4\n",
        "  num=int(i)\n",
        "  li.append(num)\n",
        "for l in li:\n",
        " if l%2==0:\n",
        "    print(\"even number:{}\".format(l))\n",
        " else:\n",
        "    print(\"odd number:{}\".format(l))"
      ],
      "metadata": {
        "colab": {
          "base_uri": "https://localhost:8080/"
        },
        "id": "k7yEUqxtgxZC",
        "outputId": "06895195-b825-4c3e-d125-3829964acc97"
      },
      "execution_count": null,
      "outputs": [
        {
          "output_type": "stream",
          "name": "stdout",
          "text": [
            "odd number:1\n",
            "even number:2\n",
            "odd number:3\n",
            "even number:4\n"
          ]
        }
      ]
    },
    {
      "cell_type": "code",
      "source": [
        "#alternate-question 5\n",
        "f1=open(\"f1.txt\",\"w\")\n",
        "f1.write(\"PYTHON PROGRAMMING\")\n",
        "f1=open(\"f1.txt\",\"r\")\n",
        "#print(f1.read()[0:12])\n",
        "str=f1.read()\n",
        "print(str[0:18:2].upper())\n",
        "print(str[1:17:2].lower())\n"
      ],
      "metadata": {
        "colab": {
          "base_uri": "https://localhost:8080/"
        },
        "id": "lMnLoov1jlnC",
        "outputId": "642ed17f-f2aa-4b1a-c381-9fe59c967982"
      },
      "execution_count": null,
      "outputs": [
        {
          "output_type": "stream",
          "name": "stdout",
          "text": [
            "PTO RGAMN\n",
            "yhnpormi\n"
          ]
        }
      ]
    },
    {
      "cell_type": "code",
      "source": [
        "#armstrong number-question 6\n",
        "f1=open(\"f1.txt\",\"w\")\n",
        "f1.write(\"153\")\n",
        "f1=open(\"f1.txt\",\"r\")\n",
        "for i in f1.readlines():\n",
        "    num=int(i)\n",
        "    temp=num\n",
        "arm=0\n",
        "r=0\n",
        "while(num>0):\n",
        "    r=num%10\n",
        "    arm=arm+r*r*r\n",
        "    num=num//10\n",
        "if(temp==arm):\n",
        "  print(\"Armstrong\")\n",
        "else:\n",
        "  print(\"not a armstrong\")"
      ],
      "metadata": {
        "colab": {
          "base_uri": "https://localhost:8080/"
        },
        "id": "HttmkwnaxrgC",
        "outputId": "7d085481-8c38-4384-a8e9-a123525b3f97"
      },
      "execution_count": 121,
      "outputs": [
        {
          "output_type": "stream",
          "name": "stdout",
          "text": [
            "Armstrong\n"
          ]
        }
      ]
    },
    {
      "cell_type": "code",
      "source": [
        "# to check whether the line starts with particular letter in file\n",
        "f1=open(\"f1.txt\",\"w\")\n",
        "f1.write(\"FISH IN THE BIN\")\n",
        "f1=open(\"f1.txt\",\"r\")\n",
        "str=f1.read()\n",
        "if str.startswith('F'):\n",
        "  print(\"Line Found\")\n",
        "else:\n",
        "  print(\"Line Not FOUND\")"
      ],
      "metadata": {
        "colab": {
          "base_uri": "https://localhost:8080/"
        },
        "id": "4c_ugE7xxuZt",
        "outputId": "1cc02dd2-61ce-4551-b501-2d171e85a61a"
      },
      "execution_count": 125,
      "outputs": [
        {
          "output_type": "stream",
          "name": "stdout",
          "text": [
            "Line Found\n"
          ]
        }
      ]
    },
    {
      "cell_type": "code",
      "source": [
        "#way-2\n",
        "f1=open(\"f1.txt\",\"w\")\n",
        "f1.write(\"FISH IN THE BIN\")\n",
        "f1=open(\"f1.txt\",\"r\")\n",
        "for i in f1.readlines():\n",
        "  if i.startswith('F'):\n",
        "    print(\"Line Found\")\n",
        "  else:\n",
        "    print(\"Line Not Found\")"
      ],
      "metadata": {
        "colab": {
          "base_uri": "https://localhost:8080/"
        },
        "id": "9o8HyWDEy1OX",
        "outputId": "ad585948-43fd-4b64-ce05-4e2c98684976"
      },
      "execution_count": 127,
      "outputs": [
        {
          "output_type": "stream",
          "name": "stdout",
          "text": [
            "Line Found\n"
          ]
        }
      ]
    }
  ]
}