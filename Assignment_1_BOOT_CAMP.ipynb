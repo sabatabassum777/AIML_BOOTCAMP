{
  "nbformat": 4,
  "nbformat_minor": 0,
  "metadata": {
    "colab": {
      "name": "Assignment-1/BOOT_CAMP.ipynb",
      "provenance": [],
      "authorship_tag": "ABX9TyNn+gtmk73B+ZJzrC5I0EC/",
      "include_colab_link": true
    },
    "kernelspec": {
      "name": "python3",
      "display_name": "Python 3"
    },
    "language_info": {
      "name": "python"
    }
  },
  "cells": [
    {
      "cell_type": "markdown",
      "metadata": {
        "id": "view-in-github",
        "colab_type": "text"
      },
      "source": [
        "<a href=\"https://colab.research.google.com/github/sabatabassum777/AIML_BOOTCAMP/blob/main/Assignment_1_BOOT_CAMP.ipynb\" target=\"_parent\"><img src=\"https://colab.research.google.com/assets/colab-badge.svg\" alt=\"Open In Colab\"/></a>"
      ]
    },
    {
      "cell_type": "markdown",
      "source": [
        "1. Implement the methods of String with examples"
      ],
      "metadata": {
        "id": "y4sKCQTncafD"
      }
    },
    {
      "cell_type": "code",
      "execution_count": 245,
      "metadata": {
        "id": "FZ341JeZx-56",
        "colab": {
          "base_uri": "https://localhost:8080/"
        },
        "outputId": "037fabf3-c6e3-43f3-a5b9-b7bc0b8495e7"
      },
      "outputs": [
        {
          "output_type": "stream",
          "name": "stdout",
          "text": [
            "Hello Bob\n",
            "Hello Bo\n",
            "H\n",
            "ello \n",
            "Hello Bob\n",
            "Hello Bob\n",
            " Bob\n",
            "lo B\n",
            "ello B\n",
            "HlB\n",
            "boB olleH\n",
            "SRUNIVERSITY\n",
            "SRSR\n",
            "GETTING STARTED WITH PYTHON\n",
            "getting started with python\n",
            "Getting Started With Python\n",
            "Getting started with python\n",
            "gETTING sTARTED wITH pYTHON\n",
            "True\n",
            "True\n",
            "6\n",
            "False\n",
            "False\n",
            "True\n",
            "welcome to python\n",
            "welcome to python  \n",
            "         welcome to python\n",
            "['welcome', 'to', 'python']\n",
            "['saba', 'tabassum', '585', 'sru']\n"
          ]
        }
      ],
      "source": [
        "str=\"Hello Bob\"\n",
        "print(str)\n",
        "#indexing\n",
        "print(str[0:8])\n",
        "print(str[0])\n",
        "print(str[1:6])\n",
        "#slice operator\n",
        "print(str[:]) # prints complete string-way1\n",
        "print(str[0:]) #-way2\n",
        "print(str[5:])\n",
        "print(str[3:7])\n",
        "print(str[-8:-2])\n",
        "print(str[0:8:3])# alternate elements\n",
        "# reverse a string using slice operator\n",
        "print(str[::-1])\n",
        "# string operations\n",
        "str1=\"SR\"\n",
        "str2=\"UNIVERSITY\"\n",
        "print(str1+str2)\n",
        "str3=str1*2\n",
        "print(str3)\n",
        "# string methods\n",
        "str4=\"Getting Started With Python\"\n",
        "print(str4.upper())#converts to uppercase\n",
        "print(str4.lower())#converts to lower case\n",
        "print(str4.title())#converts first letter of each word\n",
        "print(str4.capitalize())#Converts to capitals\n",
        "print(str4.swapcase())#converts upper to lower and vice versa\n",
        "print(str4.endswith('n'))#check whether the string ends with letter\n",
        "print(str4.startswith('G'))#checks whether the string begins with lettter\n",
        "print(str4.count('t'))#counts the no of occurance of element\n",
        "print(str4.isalpha())#returns true if all the characters are alphabets\n",
        "print(str4.isnumeric())#returns true if all characters are numbers\n",
        "print(str4.istitle())#returns true if matches to title()\n",
        "str5=\"         welcome to python  \"\n",
        "print(str5.strip())\n",
        "print(str5.lstrip())\n",
        "print(str5.rstrip())\n",
        "print(str5.split( ))\n",
        "str6=\"saba@tabassum@585@sru\"\n",
        "print(str6.split('@'))"
      ]
    },
    {
      "cell_type": "markdown",
      "source": [
        "2. Implement the methods of List with examples."
      ],
      "metadata": {
        "id": "fJ-C4aqphcFu"
      }
    },
    {
      "cell_type": "code",
      "source": [
        "#LIST\n",
        "list1=[5,10,15,20,25,30,35,40,45,50]\n",
        "list2=[\"apple\",\"banana\",\"cherry\",4,5.0,30+4j]\n",
        "list3=[\"P\",\"R\",\"O\",\"G\",\"R\",\"A\",\"M\",\"M\",\"I\",\"N\",\"G\"]\n",
        "#indexing\n",
        "print(list1[1])\n",
        "print(list2[2])\n",
        "print(list3[5])\n",
        "#slicing\n",
        "print(list1[0:5])\n",
        "print(list2[:])\n",
        "print(list2[::-1])\n",
        "print(list3[-1::-5])#prints from last living 5 indexes\n",
        "print(list3[0:8:2])\n",
        "#nested list\n",
        "nlist=[[5,10,15],[\"apple\",\"banana\",\"cherry\"],[\"P\",\"R\",\"O\",\"G\",\"R\",\"A\",\"M\",\"M\",\"I\",\"N\",\"G\"]]\n",
        "print(nlist[0][1])\n",
        "print(nlist[1][2])\n",
        "print(nlist[2][3])\n",
        "print(nlist[2][1:4])\n",
        "# list Methods\n",
        "list4=[5,10]\n",
        "list4.append(100)\n",
        "print(list4)\n",
        "list4.extend(\"cherry\")\n",
        "print(list4)\n",
        "list4.insert(9,999)\n",
        "print(list4)\n",
        "print(list4.count('r'))\n",
        "list5=list4.copy()\n",
        "print(list5)\n",
        "list4.reverse()\n",
        "print(list4)\n",
        "list6=[\"s\",\"r\",\"u\"]\n",
        "list6.sort()\n",
        "print(list6)\n",
        "list6.remove(\"u\")\n",
        "print(list6)\n",
        "list6.pop()\n",
        "print(list6)\n",
        "list6.clear()\n",
        "print(list6)"
      ],
      "metadata": {
        "colab": {
          "base_uri": "https://localhost:8080/"
        },
        "id": "yicyg1irhg_R",
        "outputId": "56493b8e-ba0e-49bf-b530-49cf008f8965"
      },
      "execution_count": 246,
      "outputs": [
        {
          "output_type": "stream",
          "name": "stdout",
          "text": [
            "10\n",
            "cherry\n",
            "A\n",
            "[5, 10, 15, 20, 25]\n",
            "['apple', 'banana', 'cherry', 4, 5.0, (30+4j)]\n",
            "[(30+4j), 5.0, 4, 'cherry', 'banana', 'apple']\n",
            "['G', 'A', 'P']\n",
            "['P', 'O', 'R', 'M']\n",
            "10\n",
            "cherry\n",
            "G\n",
            "['R', 'O', 'G']\n",
            "[5, 10, 100]\n",
            "[5, 10, 100, 'c', 'h', 'e', 'r', 'r', 'y']\n",
            "[5, 10, 100, 'c', 'h', 'e', 'r', 'r', 'y', 999]\n",
            "2\n",
            "[5, 10, 100, 'c', 'h', 'e', 'r', 'r', 'y', 999]\n",
            "[999, 'y', 'r', 'r', 'e', 'h', 'c', 100, 10, 5]\n",
            "['r', 's', 'u']\n",
            "['r', 's']\n",
            "['r']\n",
            "[]\n"
          ]
        }
      ]
    },
    {
      "cell_type": "markdown",
      "source": [
        "3. Implement the methods of Tuple with examples."
      ],
      "metadata": {
        "id": "S44vo-I6nyKp"
      }
    },
    {
      "cell_type": "code",
      "source": [
        "tuple1=(10,20,30,40,50,60,70,80,90,100,10,20)\n",
        "tuple2=(\"sru\",\"cse\",\"eee\",\"mech\",\"ece\")\n",
        "tuple3=(10,\"sru\",4.3,\"cse\")\n",
        "#indexing\n",
        "print(tuple1[4])\n",
        "print(tuple2[2])\n",
        "print(tuple3[2])\n",
        "#slicing\n",
        "print(tuple1[0:8])\n",
        "print(tuple2[::-1])\n",
        "print(tuple3[-3:-1])\n",
        "# tuple methods\n",
        "print(tuple1.count(10))\n",
        "print(tuple1.index(10))\n",
        "print(max(tuple1))\n",
        "print(min(tuple1))\n",
        "print(len(tuple3))"
      ],
      "metadata": {
        "colab": {
          "base_uri": "https://localhost:8080/"
        },
        "id": "AznQ8Hh4n1Rn",
        "outputId": "73f33c5e-ebec-46ee-fa28-a3d30bd959dc"
      },
      "execution_count": 247,
      "outputs": [
        {
          "output_type": "stream",
          "name": "stdout",
          "text": [
            "50\n",
            "eee\n",
            "4.3\n",
            "(10, 20, 30, 40, 50, 60, 70, 80)\n",
            "('ece', 'mech', 'eee', 'cse', 'sru')\n",
            "('sru', 4.3)\n",
            "2\n",
            "0\n",
            "100\n",
            "10\n",
            "4\n"
          ]
        }
      ]
    },
    {
      "cell_type": "markdown",
      "source": [
        "\n",
        "4. Implement the methods of Dictionary with examples."
      ],
      "metadata": {
        "id": "NlUsI6ahpwnR"
      }
    },
    {
      "cell_type": "code",
      "source": [
        "dict1={'name':'saba','branch':'cse','college':'sr university','pincode':506001}\n",
        "print(dict1)\n",
        "print(dict1['name'])\n",
        "print(dict1.keys())\n",
        "print(dict1.values())\n",
        "print(dict1.get('pincode'))\n",
        "dict2=dict1.copy()\n",
        "print(dict2)\n",
        "print(dict1.items())\n",
        "dict1.update({'pincode':506009})\n",
        "print(dict1)\n",
        "dict1.pop('branch')\n",
        "print(dict1)\n",
        "dict1.popitem()\n",
        "dict1.clear()\n",
        "print(dict1)"
      ],
      "metadata": {
        "colab": {
          "base_uri": "https://localhost:8080/"
        },
        "id": "cHJ6DVH6p6cO",
        "outputId": "59918c8a-4f51-4d8d-9bae-2e6c0b4ea3f6"
      },
      "execution_count": 248,
      "outputs": [
        {
          "output_type": "stream",
          "name": "stdout",
          "text": [
            "{'name': 'saba', 'branch': 'cse', 'college': 'sr university', 'pincode': 506001}\n",
            "saba\n",
            "dict_keys(['name', 'branch', 'college', 'pincode'])\n",
            "dict_values(['saba', 'cse', 'sr university', 506001])\n",
            "506001\n",
            "{'name': 'saba', 'branch': 'cse', 'college': 'sr university', 'pincode': 506001}\n",
            "dict_items([('name', 'saba'), ('branch', 'cse'), ('college', 'sr university'), ('pincode', 506001)])\n",
            "{'name': 'saba', 'branch': 'cse', 'college': 'sr university', 'pincode': 506009}\n",
            "{'name': 'saba', 'college': 'sr university', 'pincode': 506009}\n",
            "{}\n"
          ]
        }
      ]
    },
    {
      "cell_type": "markdown",
      "source": [
        ""
      ],
      "metadata": {
        "id": "Zq9pz3u6cYwP"
      }
    },
    {
      "cell_type": "markdown",
      "source": [
        " 5. Implement the methods of Set with examples.\n"
      ],
      "metadata": {
        "id": "97tCG1sIscXX"
      }
    },
    {
      "cell_type": "code",
      "source": [
        "set1={2,4,6,8,10,12,14,16,18,20}\n",
        "set2={2,4,6,\"sru\",(1,2,3)}\n",
        "#set methods\n",
        "set1.add(22)\n",
        "print(set1)\n",
        "set1.update([20,22,24])\n",
        "print(set1)\n",
        "set1.discard(24)\n",
        "print(set1)\n",
        "set1.remove(20)\n",
        "print(set1)\n",
        "set2=set1\n",
        "print(set2)\n",
        "print(set2.clear())\n",
        "print(set2)\n",
        "#set operations\n",
        "a={1,2,3,4,5,6,7}\n",
        "b={2,4,6,8,10}\n",
        "print(a and b)\n",
        "print(a or b)\n",
        "print(a.union(b))\n",
        "print(a.intersection(b))\n",
        "print(a.difference(b))\n",
        "print(b.difference(a))\n",
        "print(a.pop())"
      ],
      "metadata": {
        "colab": {
          "base_uri": "https://localhost:8080/"
        },
        "id": "hziP4f4Csjeg",
        "outputId": "363b54b8-bdf5-478c-d4c9-aa73e92dee35"
      },
      "execution_count": 249,
      "outputs": [
        {
          "output_type": "stream",
          "name": "stdout",
          "text": [
            "{2, 4, 6, 8, 10, 12, 14, 16, 18, 20, 22}\n",
            "{2, 4, 6, 8, 10, 12, 14, 16, 18, 20, 22, 24}\n",
            "{2, 4, 6, 8, 10, 12, 14, 16, 18, 20, 22}\n",
            "{2, 4, 6, 8, 10, 12, 14, 16, 18, 22}\n",
            "{2, 4, 6, 8, 10, 12, 14, 16, 18, 22}\n",
            "None\n",
            "set()\n",
            "{2, 4, 6, 8, 10}\n",
            "{1, 2, 3, 4, 5, 6, 7}\n",
            "{1, 2, 3, 4, 5, 6, 7, 8, 10}\n",
            "{2, 4, 6}\n",
            "{1, 3, 5, 7}\n",
            "{8, 10}\n",
            "1\n"
          ]
        }
      ]
    },
    {
      "cell_type": "markdown",
      "source": [
        "6. Write a python program to convert Decimal to Binary, Octal and Hexadecimal with \n",
        "direct method."
      ],
      "metadata": {
        "id": "S3wAnYN0wI6a"
      }
    },
    {
      "cell_type": "code",
      "source": [
        "#Decimal to BInary\n",
        "num=int(input('enter a number:'))\n",
        "def decimalToBinary(num):\n",
        "  if num>1:\n",
        "      decimalToBinary(num//2)\n",
        "  print(num%2,end=' ')\n",
        "decimalToBinary(num)\n",
        "print(\"\\n\")\n",
        "#Decimal to Octal\n",
        "num=int(input('enter a number:'))\n",
        "def decimalToOctal(num):\n",
        "  if num>1:\n",
        "      decimalToOctal(num//8)\n",
        "  print(num%8,end=' ')\n",
        "decimalToOctal(num)\n",
        "print(\"\\n\")\n",
        "#Decimal to Hexadecimal\n",
        "num=int(input('enter a number:'))\n",
        "def decimalToHexa(num):\n",
        "  if num>1:\n",
        "      decimalToHexa(num//16)\n",
        "  print(num%16,end=' ')\n",
        "decimalToHexa(num)"
      ],
      "metadata": {
        "colab": {
          "base_uri": "https://localhost:8080/"
        },
        "id": "Fi_AaFf4wOt7",
        "outputId": "fde87156-dc02-4e96-b90c-657bfa3e47b7"
      },
      "execution_count": 250,
      "outputs": [
        {
          "output_type": "stream",
          "name": "stdout",
          "text": [
            "enter a number:7\n",
            "1 1 1 \n",
            "\n",
            "enter a number:344\n",
            "0 5 3 0 \n",
            "\n",
            "enter a number:69\n",
            "0 4 5 "
          ]
        }
      ]
    },
    {
      "cell_type": "markdown",
      "source": [
        "7. Implement Arithmetic operators with examples"
      ],
      "metadata": {
        "id": "_Nek-mhi1Ngq"
      }
    },
    {
      "cell_type": "code",
      "source": [
        "a=5+10#addition\n",
        "b=5-10#subtraction\n",
        "c=5*10#multiplication\n",
        "d=5/10#division\n",
        "e=5%10#modulus\n",
        "f=5**10#exponent\n",
        "g=5//10#floor\n",
        "print(a,b,c,d,e,f,g)"
      ],
      "metadata": {
        "colab": {
          "base_uri": "https://localhost:8080/"
        },
        "id": "NY9w-Lzq1j4T",
        "outputId": "234b67b0-9439-4be7-cdfb-6d4a0be323ec"
      },
      "execution_count": 251,
      "outputs": [
        {
          "output_type": "stream",
          "name": "stdout",
          "text": [
            "15 -5 50 0.5 5 9765625 0\n"
          ]
        }
      ]
    },
    {
      "cell_type": "markdown",
      "source": [
        "8. Implement Assignment operators with examples."
      ],
      "metadata": {
        "id": "3jLxJh9Q2QJb"
      }
    },
    {
      "cell_type": "code",
      "source": [
        "#assignment operators\n",
        "a=5\n",
        "print(a)\n",
        "a+=3\n",
        "print(a)\n",
        "a-=3\n",
        "print(a)\n",
        "a*=2\n",
        "print(a)\n",
        "a/=5\n",
        "print(a)\n",
        "a%=5\n",
        "print(a)\n",
        "a//=5\n",
        "print(a)\n",
        "b=2\n",
        "b**=2\n",
        "print(b)"
      ],
      "metadata": {
        "colab": {
          "base_uri": "https://localhost:8080/"
        },
        "id": "J1tUjyFQ1Rye",
        "outputId": "9a76c79d-a348-4510-cf61-183ddf5d28cc"
      },
      "execution_count": 252,
      "outputs": [
        {
          "output_type": "stream",
          "name": "stdout",
          "text": [
            "5\n",
            "8\n",
            "5\n",
            "10\n",
            "2.0\n",
            "2.0\n",
            "0.0\n",
            "4\n"
          ]
        }
      ]
    },
    {
      "cell_type": "markdown",
      "source": [
        "9. Implement Comparison operators with examples"
      ],
      "metadata": {
        "id": "b5k5ydTb3QiW"
      }
    },
    {
      "cell_type": "code",
      "source": [
        "a=10\n",
        "b=5\n",
        "print(a==b)\n",
        "print(a>b)\n",
        "print(b>a)\n",
        "print(a>=b)\n",
        "print(a<=b)\n",
        "print(b>=a)\n",
        "print(b<=a)\n",
        "print(a!=b)"
      ],
      "metadata": {
        "colab": {
          "base_uri": "https://localhost:8080/"
        },
        "id": "ttr5jSVy3TTs",
        "outputId": "f105dfd2-8bf6-4a6c-cae6-1675bb2d3869"
      },
      "execution_count": 253,
      "outputs": [
        {
          "output_type": "stream",
          "name": "stdout",
          "text": [
            "False\n",
            "True\n",
            "False\n",
            "True\n",
            "False\n",
            "False\n",
            "True\n",
            "True\n"
          ]
        }
      ]
    },
    {
      "cell_type": "markdown",
      "source": [
        "10. Implement Logical operators with examples"
      ],
      "metadata": {
        "id": "NTSyU2HM4Q-B"
      }
    },
    {
      "cell_type": "code",
      "source": [
        "a=True\n",
        "b=False\n",
        "c=True\n",
        "print(a and b)\n",
        "print((a and b) and ( b and c))\n",
        "print((a and b) or ( b and c))\n",
        "print((a or b) and ( b or c))\n",
        "print(a or b)\n",
        "print(not a)\n",
        "a=5\n",
        "b=3\n",
        "print(a<10 and b<5)\n",
        "print(a<10 or b<5)\n",
        "print (not(a<10 or b<5))"
      ],
      "metadata": {
        "colab": {
          "base_uri": "https://localhost:8080/"
        },
        "id": "NBP9VgNn4YSP",
        "outputId": "682e25dd-1079-4217-91ea-9893c2efb55a"
      },
      "execution_count": 265,
      "outputs": [
        {
          "output_type": "stream",
          "name": "stdout",
          "text": [
            "False\n",
            "False\n",
            "False\n",
            "True\n",
            "True\n",
            "False\n",
            "True\n",
            "True\n",
            "False\n"
          ]
        }
      ]
    },
    {
      "cell_type": "markdown",
      "source": [
        "11. Implement Bitwise operators with examples.\n"
      ],
      "metadata": {
        "id": "GydVfLFo5UDB"
      }
    },
    {
      "cell_type": "code",
      "source": [
        "a=12\n",
        "b=10\n",
        "print(a&b)\n",
        "print(a|b)\n",
        "print(~a)\n",
        "print(a>>2)\n",
        "print(a<<2)"
      ],
      "metadata": {
        "colab": {
          "base_uri": "https://localhost:8080/"
        },
        "id": "_eQLiFd45XVr",
        "outputId": "d69cfe4c-c24e-4a91-fcd5-3a431a006735"
      },
      "execution_count": 255,
      "outputs": [
        {
          "output_type": "stream",
          "name": "stdout",
          "text": [
            "8\n",
            "14\n",
            "-13\n",
            "3\n",
            "48\n"
          ]
        }
      ]
    },
    {
      "cell_type": "markdown",
      "source": [
        "12. Implement Membership operators with examples."
      ],
      "metadata": {
        "id": "kWiUJSxh58AQ"
      }
    },
    {
      "cell_type": "code",
      "source": [
        "x=\"PROGRAMMING\"\n",
        "y={1:\"apple\",2:\"banana\",3:\"cherry\"}\n",
        "print('P' in x)\n",
        "print('Z' not in x)\n",
        "print(1 in y)\n",
        "print(\"unicorn\" in y)"
      ],
      "metadata": {
        "colab": {
          "base_uri": "https://localhost:8080/"
        },
        "id": "cQpMX0u45-gg",
        "outputId": "f81ee839-9780-4bd0-f2f9-b231aeffbf39"
      },
      "execution_count": 256,
      "outputs": [
        {
          "output_type": "stream",
          "name": "stdout",
          "text": [
            "True\n",
            "True\n",
            "True\n",
            "False\n"
          ]
        }
      ]
    },
    {
      "cell_type": "markdown",
      "source": [
        "13. Implement Identity operators with examples"
      ],
      "metadata": {
        "id": "x2vwFuME6slo"
      }
    },
    {
      "cell_type": "code",
      "source": [
        "x=[\"🥀\",\"🌻\",\"🌷\"]\n",
        "y=[\"🥀\",\"🌻\",\"🌠\"]\n",
        "print(x is y)\n",
        "print (x is not y)"
      ],
      "metadata": {
        "colab": {
          "base_uri": "https://localhost:8080/"
        },
        "id": "OvmN6pt46v9c",
        "outputId": "f2ba70e6-29ae-4841-fa6c-61e46b4ac73c"
      },
      "execution_count": 257,
      "outputs": [
        {
          "output_type": "stream",
          "name": "stdout",
          "text": [
            "False\n",
            "True\n"
          ]
        }
      ]
    },
    {
      "cell_type": "code",
      "source": [
        "x=[\"⏰\"]\n",
        "y=[\"⭐\"]\n",
        "print(x is y)\n",
        "print (x is not y)"
      ],
      "metadata": {
        "colab": {
          "base_uri": "https://localhost:8080/"
        },
        "id": "quadZ3ER69Pd",
        "outputId": "d5171029-cca4-41d3-dba0-036ac528489c"
      },
      "execution_count": 258,
      "outputs": [
        {
          "output_type": "stream",
          "name": "stdout",
          "text": [
            "False\n",
            "True\n"
          ]
        }
      ]
    },
    {
      "cell_type": "markdown",
      "source": [
        "14. Demonstrate Negative indexing for List and apply slicing.\n"
      ],
      "metadata": {
        "id": "mLMPbVXI8fgA"
      }
    },
    {
      "cell_type": "code",
      "source": [
        "#negative indexing\n",
        "list1=[10,20,30,40,50]\n",
        "print(list1[-1])\n",
        "print(list1[-5])\n",
        "#slicing\n",
        "print(list1[-1::-1])\n",
        "print(list1[-4:-2])\n",
        "print(list1[::-1])\n",
        "list2=[10,20,[5,1,2],[3,4,6,7],100]\n",
        "print(list2[3][-1])\n",
        "print(list2[2][::-1])\n",
        "print(list2[3][1:3])\n",
        "list3=[2,4,6,8,[3,5,7,11],[100,200,300,400]]\n",
        "print(list3[1:3][::-1])"
      ],
      "metadata": {
        "colab": {
          "base_uri": "https://localhost:8080/"
        },
        "id": "cotUygSu8lwS",
        "outputId": "2e21e268-32dc-4ed8-c96d-8e717ec071fa"
      },
      "execution_count": 259,
      "outputs": [
        {
          "output_type": "stream",
          "name": "stdout",
          "text": [
            "50\n",
            "10\n",
            "[50, 40, 30, 20, 10]\n",
            "[20, 30]\n",
            "[50, 40, 30, 20, 10]\n",
            "7\n",
            "[2, 1, 5]\n",
            "[4, 6]\n",
            "[6, 4]\n"
          ]
        }
      ]
    },
    {
      "cell_type": "markdown",
      "source": [
        "15. Predict the output for the given code snippet and justify the result."
      ],
      "metadata": {
        "id": "zQ23ElCW9YRr"
      }
    },
    {
      "cell_type": "code",
      "source": [
        "print('A series of characters designated as one subject know as a string'[::-1][4::3])\n",
        "#justification\n",
        "''' reverse of statement is   'gnirts a sa wonk tcejbus eno sa detangised sretcarahc fo seires A' \n",
        "and [4::3] takes index 4 and then leaves one letter and prints next\n",
        "output:'taao eue  tgestrcoeeA'   '''\n",
        "print(\"\\n------------------------------------\")\n",
        "print('Welcome to python training program'[3:10][::-1])  \n",
        "#justification\n",
        "#index from 3 to 10  statement is come to and slicing[::-1] of it is output:ot emoc "
      ],
      "metadata": {
        "colab": {
          "base_uri": "https://localhost:8080/"
        },
        "id": "-pIFk6L09cNr",
        "outputId": "20efacf2-53b6-4090-c7c3-aa8722b4905d"
      },
      "execution_count": 260,
      "outputs": [
        {
          "output_type": "stream",
          "name": "stdout",
          "text": [
            "taao eue  tgestrcoeeA\n",
            "\n",
            "------------------------------------\n",
            "ot emoc\n"
          ]
        }
      ]
    },
    {
      "cell_type": "markdown",
      "source": [
        "16. Write a python code to get desired output"
      ],
      "metadata": {
        "id": "SZxRQpWwB8Z8"
      }
    },
    {
      "cell_type": "code",
      "source": [
        "p_phrase=\"was it a car or a cat I saw\"\n",
        "print(p_phrase[::-1].upper())"
      ],
      "metadata": {
        "colab": {
          "base_uri": "https://localhost:8080/"
        },
        "id": "4l3uDDZTCBsO",
        "outputId": "02a3e1bc-c022-48d9-f646-38240cae65aa"
      },
      "execution_count": 261,
      "outputs": [
        {
          "output_type": "stream",
          "name": "stdout",
          "text": [
            "WAS I TAC A RO RAC A TI SAW\n"
          ]
        }
      ]
    },
    {
      "cell_type": "markdown",
      "source": [
        "17. You are required to generate a word similar to ZOO, X and Y that denote the number \n",
        "of Zs and Os respectively. The generated word similar to ZOO where Y= 2 * X. \n",
        " Input X= 2 Output ZZOOOO \n",
        " Input X= 5 Output ZZZZZOOOOOOOOOO"
      ],
      "metadata": {
        "id": "_RHpGX8TD8Iw"
      }
    },
    {
      "cell_type": "code",
      "source": [
        "word='ZOO'\n",
        "X=int(input('Enter a number:'))\n",
        "Y=2*X\n",
        "print('Z'*X+'O'*Y)\n",
        "#for input 2 --> ZZOOOO\n",
        "#FOR INNPUT 5-->ZZZZZOOOOOOOOOO"
      ],
      "metadata": {
        "colab": {
          "base_uri": "https://localhost:8080/"
        },
        "id": "YvHhDUeaD0J4",
        "outputId": "4d252feb-4621-4cbd-91ff-cd24171f3fbd"
      },
      "execution_count": 262,
      "outputs": [
        {
          "output_type": "stream",
          "name": "stdout",
          "text": [
            "Enter a number:5\n",
            "ZZZZZOOOOOOOOOO\n"
          ]
        }
      ]
    }
  ]
}