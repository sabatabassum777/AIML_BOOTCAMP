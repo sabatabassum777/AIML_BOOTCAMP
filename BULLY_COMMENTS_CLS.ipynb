{
  "nbformat": 4,
  "nbformat_minor": 0,
  "metadata": {
    "colab": {
      "name": "BULLY_COMMENTS_CLS.ipynb",
      "provenance": [],
      "mount_file_id": "1zQKbga60x26z6qxszbEHrKuUUBW72SKJ",
      "authorship_tag": "ABX9TyNdxeRFMV7XN52ZDZToqpNK",
      "include_colab_link": true
    },
    "kernelspec": {
      "name": "python3",
      "display_name": "Python 3"
    },
    "language_info": {
      "name": "python"
    }
  },
  "cells": [
    {
      "cell_type": "markdown",
      "metadata": {
        "id": "view-in-github",
        "colab_type": "text"
      },
      "source": [
        "<a href=\"https://colab.research.google.com/github/sabatabassum777/AIML_BOOTCAMP/blob/main/BULLY_COMMENTS_CLS.ipynb\" target=\"_parent\"><img src=\"https://colab.research.google.com/assets/colab-badge.svg\" alt=\"Open In Colab\"/></a>"
      ]
    },
    {
      "cell_type": "code",
      "source": [
        "import numpy as np # linear algebra\n",
        "import pandas as pd # data processing, CSV file I/O (e.g. pd.read_csv)\n",
        "import os"
      ],
      "metadata": {
        "id": "d_8-YijyznPm"
      },
      "execution_count": 525,
      "outputs": []
    },
    {
      "cell_type": "code",
      "execution_count": 526,
      "metadata": {
        "id": "yg7eHvuUU6Y_"
      },
      "outputs": [],
      "source": [
        "import pandas as pd\n",
        "import numpy as np\n",
        "df=pd.read_json(\"/dataset.json\",lines=True)"
      ]
    },
    {
      "cell_type": "code",
      "source": [
        "df.head()"
      ],
      "metadata": {
        "colab": {
          "base_uri": "https://localhost:8080/",
          "height": 206
        },
        "id": "WC1AwWKx2wZn",
        "outputId": "15e12048-2ea8-4402-eca3-9c36a58828e3"
      },
      "execution_count": 527,
      "outputs": [
        {
          "output_type": "execute_result",
          "data": {
            "text/plain": [
              "                                             content  \\\n",
              "0                             Get fucking real dude.   \n",
              "1   She is as dirty as they come  and that crook ...   \n",
              "2   why did you fuck it up. I could do it all day...   \n",
              "3   Dude they dont finish enclosing the fucking s...   \n",
              "4   WTF are you talking about Men? No men thats n...   \n",
              "\n",
              "                      annotation  extras  \n",
              "0  {'notes': '', 'label': ['1']}     NaN  \n",
              "1  {'notes': '', 'label': ['1']}     NaN  \n",
              "2  {'notes': '', 'label': ['1']}     NaN  \n",
              "3  {'notes': '', 'label': ['1']}     NaN  \n",
              "4  {'notes': '', 'label': ['1']}     NaN  "
            ],
            "text/html": [
              "\n",
              "  <div id=\"df-30abe9bb-3cc2-4170-82f7-14bc7ff65e3f\">\n",
              "    <div class=\"colab-df-container\">\n",
              "      <div>\n",
              "<style scoped>\n",
              "    .dataframe tbody tr th:only-of-type {\n",
              "        vertical-align: middle;\n",
              "    }\n",
              "\n",
              "    .dataframe tbody tr th {\n",
              "        vertical-align: top;\n",
              "    }\n",
              "\n",
              "    .dataframe thead th {\n",
              "        text-align: right;\n",
              "    }\n",
              "</style>\n",
              "<table border=\"1\" class=\"dataframe\">\n",
              "  <thead>\n",
              "    <tr style=\"text-align: right;\">\n",
              "      <th></th>\n",
              "      <th>content</th>\n",
              "      <th>annotation</th>\n",
              "      <th>extras</th>\n",
              "    </tr>\n",
              "  </thead>\n",
              "  <tbody>\n",
              "    <tr>\n",
              "      <th>0</th>\n",
              "      <td>Get fucking real dude.</td>\n",
              "      <td>{'notes': '', 'label': ['1']}</td>\n",
              "      <td>NaN</td>\n",
              "    </tr>\n",
              "    <tr>\n",
              "      <th>1</th>\n",
              "      <td>She is as dirty as they come  and that crook ...</td>\n",
              "      <td>{'notes': '', 'label': ['1']}</td>\n",
              "      <td>NaN</td>\n",
              "    </tr>\n",
              "    <tr>\n",
              "      <th>2</th>\n",
              "      <td>why did you fuck it up. I could do it all day...</td>\n",
              "      <td>{'notes': '', 'label': ['1']}</td>\n",
              "      <td>NaN</td>\n",
              "    </tr>\n",
              "    <tr>\n",
              "      <th>3</th>\n",
              "      <td>Dude they dont finish enclosing the fucking s...</td>\n",
              "      <td>{'notes': '', 'label': ['1']}</td>\n",
              "      <td>NaN</td>\n",
              "    </tr>\n",
              "    <tr>\n",
              "      <th>4</th>\n",
              "      <td>WTF are you talking about Men? No men thats n...</td>\n",
              "      <td>{'notes': '', 'label': ['1']}</td>\n",
              "      <td>NaN</td>\n",
              "    </tr>\n",
              "  </tbody>\n",
              "</table>\n",
              "</div>\n",
              "      <button class=\"colab-df-convert\" onclick=\"convertToInteractive('df-30abe9bb-3cc2-4170-82f7-14bc7ff65e3f')\"\n",
              "              title=\"Convert this dataframe to an interactive table.\"\n",
              "              style=\"display:none;\">\n",
              "        \n",
              "  <svg xmlns=\"http://www.w3.org/2000/svg\" height=\"24px\"viewBox=\"0 0 24 24\"\n",
              "       width=\"24px\">\n",
              "    <path d=\"M0 0h24v24H0V0z\" fill=\"none\"/>\n",
              "    <path d=\"M18.56 5.44l.94 2.06.94-2.06 2.06-.94-2.06-.94-.94-2.06-.94 2.06-2.06.94zm-11 1L8.5 8.5l.94-2.06 2.06-.94-2.06-.94L8.5 2.5l-.94 2.06-2.06.94zm10 10l.94 2.06.94-2.06 2.06-.94-2.06-.94-.94-2.06-.94 2.06-2.06.94z\"/><path d=\"M17.41 7.96l-1.37-1.37c-.4-.4-.92-.59-1.43-.59-.52 0-1.04.2-1.43.59L10.3 9.45l-7.72 7.72c-.78.78-.78 2.05 0 2.83L4 21.41c.39.39.9.59 1.41.59.51 0 1.02-.2 1.41-.59l7.78-7.78 2.81-2.81c.8-.78.8-2.07 0-2.86zM5.41 20L4 18.59l7.72-7.72 1.47 1.35L5.41 20z\"/>\n",
              "  </svg>\n",
              "      </button>\n",
              "      \n",
              "  <style>\n",
              "    .colab-df-container {\n",
              "      display:flex;\n",
              "      flex-wrap:wrap;\n",
              "      gap: 12px;\n",
              "    }\n",
              "\n",
              "    .colab-df-convert {\n",
              "      background-color: #E8F0FE;\n",
              "      border: none;\n",
              "      border-radius: 50%;\n",
              "      cursor: pointer;\n",
              "      display: none;\n",
              "      fill: #1967D2;\n",
              "      height: 32px;\n",
              "      padding: 0 0 0 0;\n",
              "      width: 32px;\n",
              "    }\n",
              "\n",
              "    .colab-df-convert:hover {\n",
              "      background-color: #E2EBFA;\n",
              "      box-shadow: 0px 1px 2px rgba(60, 64, 67, 0.3), 0px 1px 3px 1px rgba(60, 64, 67, 0.15);\n",
              "      fill: #174EA6;\n",
              "    }\n",
              "\n",
              "    [theme=dark] .colab-df-convert {\n",
              "      background-color: #3B4455;\n",
              "      fill: #D2E3FC;\n",
              "    }\n",
              "\n",
              "    [theme=dark] .colab-df-convert:hover {\n",
              "      background-color: #434B5C;\n",
              "      box-shadow: 0px 1px 3px 1px rgba(0, 0, 0, 0.15);\n",
              "      filter: drop-shadow(0px 1px 2px rgba(0, 0, 0, 0.3));\n",
              "      fill: #FFFFFF;\n",
              "    }\n",
              "  </style>\n",
              "\n",
              "      <script>\n",
              "        const buttonEl =\n",
              "          document.querySelector('#df-30abe9bb-3cc2-4170-82f7-14bc7ff65e3f button.colab-df-convert');\n",
              "        buttonEl.style.display =\n",
              "          google.colab.kernel.accessAllowed ? 'block' : 'none';\n",
              "\n",
              "        async function convertToInteractive(key) {\n",
              "          const element = document.querySelector('#df-30abe9bb-3cc2-4170-82f7-14bc7ff65e3f');\n",
              "          const dataTable =\n",
              "            await google.colab.kernel.invokeFunction('convertToInteractive',\n",
              "                                                     [key], {});\n",
              "          if (!dataTable) return;\n",
              "\n",
              "          const docLinkHtml = 'Like what you see? Visit the ' +\n",
              "            '<a target=\"_blank\" href=https://colab.research.google.com/notebooks/data_table.ipynb>data table notebook</a>'\n",
              "            + ' to learn more about interactive tables.';\n",
              "          element.innerHTML = '';\n",
              "          dataTable['output_type'] = 'display_data';\n",
              "          await google.colab.output.renderOutput(dataTable, element);\n",
              "          const docLink = document.createElement('div');\n",
              "          docLink.innerHTML = docLinkHtml;\n",
              "          element.appendChild(docLink);\n",
              "        }\n",
              "      </script>\n",
              "    </div>\n",
              "  </div>\n",
              "  "
            ]
          },
          "metadata": {},
          "execution_count": 527
        }
      ]
    },
    {
      "cell_type": "code",
      "source": [
        "df[\"label\"] = df.annotation.apply(lambda x: x.get('label'))\n",
        "df[\"label\"] = df.label.apply(lambda x: x[0])\n",
        "\n",
        "df"
      ],
      "metadata": {
        "colab": {
          "base_uri": "https://localhost:8080/",
          "height": 424
        },
        "id": "cTAhb2P520qw",
        "outputId": "44d9c3d2-0e9d-4c6f-e706-56c63505110f"
      },
      "execution_count": 528,
      "outputs": [
        {
          "output_type": "execute_result",
          "data": {
            "text/plain": [
              "                                                 content  \\\n",
              "0                                 Get fucking real dude.   \n",
              "1       She is as dirty as they come  and that crook ...   \n",
              "2       why did you fuck it up. I could do it all day...   \n",
              "3       Dude they dont finish enclosing the fucking s...   \n",
              "4       WTF are you talking about Men? No men thats n...   \n",
              "...                                                  ...   \n",
              "19996    I dont. But what is complaining about it goi...   \n",
              "19997   Bahah  yeah i&;m totally just gonna&; get pis...   \n",
              "19998       hahahahaha >:) im evil mwahahahahahahahahaha   \n",
              "19999            What&;s something unique about Ohio? :)   \n",
              "20000              Who is the biggest gossiper you know?   \n",
              "\n",
              "                          annotation  extras label  \n",
              "0      {'notes': '', 'label': ['1']}     NaN     1  \n",
              "1      {'notes': '', 'label': ['1']}     NaN     1  \n",
              "2      {'notes': '', 'label': ['1']}     NaN     1  \n",
              "3      {'notes': '', 'label': ['1']}     NaN     1  \n",
              "4      {'notes': '', 'label': ['1']}     NaN     1  \n",
              "...                              ...     ...   ...  \n",
              "19996  {'notes': '', 'label': ['0']}     NaN     0  \n",
              "19997  {'notes': '', 'label': ['0']}     NaN     0  \n",
              "19998  {'notes': '', 'label': ['0']}     NaN     0  \n",
              "19999  {'notes': '', 'label': ['0']}     NaN     0  \n",
              "20000  {'notes': '', 'label': ['0']}     NaN     0  \n",
              "\n",
              "[20001 rows x 4 columns]"
            ],
            "text/html": [
              "\n",
              "  <div id=\"df-dc72e52e-833f-408f-b0f5-b84f90e65d69\">\n",
              "    <div class=\"colab-df-container\">\n",
              "      <div>\n",
              "<style scoped>\n",
              "    .dataframe tbody tr th:only-of-type {\n",
              "        vertical-align: middle;\n",
              "    }\n",
              "\n",
              "    .dataframe tbody tr th {\n",
              "        vertical-align: top;\n",
              "    }\n",
              "\n",
              "    .dataframe thead th {\n",
              "        text-align: right;\n",
              "    }\n",
              "</style>\n",
              "<table border=\"1\" class=\"dataframe\">\n",
              "  <thead>\n",
              "    <tr style=\"text-align: right;\">\n",
              "      <th></th>\n",
              "      <th>content</th>\n",
              "      <th>annotation</th>\n",
              "      <th>extras</th>\n",
              "      <th>label</th>\n",
              "    </tr>\n",
              "  </thead>\n",
              "  <tbody>\n",
              "    <tr>\n",
              "      <th>0</th>\n",
              "      <td>Get fucking real dude.</td>\n",
              "      <td>{'notes': '', 'label': ['1']}</td>\n",
              "      <td>NaN</td>\n",
              "      <td>1</td>\n",
              "    </tr>\n",
              "    <tr>\n",
              "      <th>1</th>\n",
              "      <td>She is as dirty as they come  and that crook ...</td>\n",
              "      <td>{'notes': '', 'label': ['1']}</td>\n",
              "      <td>NaN</td>\n",
              "      <td>1</td>\n",
              "    </tr>\n",
              "    <tr>\n",
              "      <th>2</th>\n",
              "      <td>why did you fuck it up. I could do it all day...</td>\n",
              "      <td>{'notes': '', 'label': ['1']}</td>\n",
              "      <td>NaN</td>\n",
              "      <td>1</td>\n",
              "    </tr>\n",
              "    <tr>\n",
              "      <th>3</th>\n",
              "      <td>Dude they dont finish enclosing the fucking s...</td>\n",
              "      <td>{'notes': '', 'label': ['1']}</td>\n",
              "      <td>NaN</td>\n",
              "      <td>1</td>\n",
              "    </tr>\n",
              "    <tr>\n",
              "      <th>4</th>\n",
              "      <td>WTF are you talking about Men? No men thats n...</td>\n",
              "      <td>{'notes': '', 'label': ['1']}</td>\n",
              "      <td>NaN</td>\n",
              "      <td>1</td>\n",
              "    </tr>\n",
              "    <tr>\n",
              "      <th>...</th>\n",
              "      <td>...</td>\n",
              "      <td>...</td>\n",
              "      <td>...</td>\n",
              "      <td>...</td>\n",
              "    </tr>\n",
              "    <tr>\n",
              "      <th>19996</th>\n",
              "      <td>I dont. But what is complaining about it goi...</td>\n",
              "      <td>{'notes': '', 'label': ['0']}</td>\n",
              "      <td>NaN</td>\n",
              "      <td>0</td>\n",
              "    </tr>\n",
              "    <tr>\n",
              "      <th>19997</th>\n",
              "      <td>Bahah  yeah i&amp;;m totally just gonna&amp;; get pis...</td>\n",
              "      <td>{'notes': '', 'label': ['0']}</td>\n",
              "      <td>NaN</td>\n",
              "      <td>0</td>\n",
              "    </tr>\n",
              "    <tr>\n",
              "      <th>19998</th>\n",
              "      <td>hahahahaha &gt;:) im evil mwahahahahahahahahaha</td>\n",
              "      <td>{'notes': '', 'label': ['0']}</td>\n",
              "      <td>NaN</td>\n",
              "      <td>0</td>\n",
              "    </tr>\n",
              "    <tr>\n",
              "      <th>19999</th>\n",
              "      <td>What&amp;;s something unique about Ohio? :)</td>\n",
              "      <td>{'notes': '', 'label': ['0']}</td>\n",
              "      <td>NaN</td>\n",
              "      <td>0</td>\n",
              "    </tr>\n",
              "    <tr>\n",
              "      <th>20000</th>\n",
              "      <td>Who is the biggest gossiper you know?</td>\n",
              "      <td>{'notes': '', 'label': ['0']}</td>\n",
              "      <td>NaN</td>\n",
              "      <td>0</td>\n",
              "    </tr>\n",
              "  </tbody>\n",
              "</table>\n",
              "<p>20001 rows × 4 columns</p>\n",
              "</div>\n",
              "      <button class=\"colab-df-convert\" onclick=\"convertToInteractive('df-dc72e52e-833f-408f-b0f5-b84f90e65d69')\"\n",
              "              title=\"Convert this dataframe to an interactive table.\"\n",
              "              style=\"display:none;\">\n",
              "        \n",
              "  <svg xmlns=\"http://www.w3.org/2000/svg\" height=\"24px\"viewBox=\"0 0 24 24\"\n",
              "       width=\"24px\">\n",
              "    <path d=\"M0 0h24v24H0V0z\" fill=\"none\"/>\n",
              "    <path d=\"M18.56 5.44l.94 2.06.94-2.06 2.06-.94-2.06-.94-.94-2.06-.94 2.06-2.06.94zm-11 1L8.5 8.5l.94-2.06 2.06-.94-2.06-.94L8.5 2.5l-.94 2.06-2.06.94zm10 10l.94 2.06.94-2.06 2.06-.94-2.06-.94-.94-2.06-.94 2.06-2.06.94z\"/><path d=\"M17.41 7.96l-1.37-1.37c-.4-.4-.92-.59-1.43-.59-.52 0-1.04.2-1.43.59L10.3 9.45l-7.72 7.72c-.78.78-.78 2.05 0 2.83L4 21.41c.39.39.9.59 1.41.59.51 0 1.02-.2 1.41-.59l7.78-7.78 2.81-2.81c.8-.78.8-2.07 0-2.86zM5.41 20L4 18.59l7.72-7.72 1.47 1.35L5.41 20z\"/>\n",
              "  </svg>\n",
              "      </button>\n",
              "      \n",
              "  <style>\n",
              "    .colab-df-container {\n",
              "      display:flex;\n",
              "      flex-wrap:wrap;\n",
              "      gap: 12px;\n",
              "    }\n",
              "\n",
              "    .colab-df-convert {\n",
              "      background-color: #E8F0FE;\n",
              "      border: none;\n",
              "      border-radius: 50%;\n",
              "      cursor: pointer;\n",
              "      display: none;\n",
              "      fill: #1967D2;\n",
              "      height: 32px;\n",
              "      padding: 0 0 0 0;\n",
              "      width: 32px;\n",
              "    }\n",
              "\n",
              "    .colab-df-convert:hover {\n",
              "      background-color: #E2EBFA;\n",
              "      box-shadow: 0px 1px 2px rgba(60, 64, 67, 0.3), 0px 1px 3px 1px rgba(60, 64, 67, 0.15);\n",
              "      fill: #174EA6;\n",
              "    }\n",
              "\n",
              "    [theme=dark] .colab-df-convert {\n",
              "      background-color: #3B4455;\n",
              "      fill: #D2E3FC;\n",
              "    }\n",
              "\n",
              "    [theme=dark] .colab-df-convert:hover {\n",
              "      background-color: #434B5C;\n",
              "      box-shadow: 0px 1px 3px 1px rgba(0, 0, 0, 0.15);\n",
              "      filter: drop-shadow(0px 1px 2px rgba(0, 0, 0, 0.3));\n",
              "      fill: #FFFFFF;\n",
              "    }\n",
              "  </style>\n",
              "\n",
              "      <script>\n",
              "        const buttonEl =\n",
              "          document.querySelector('#df-dc72e52e-833f-408f-b0f5-b84f90e65d69 button.colab-df-convert');\n",
              "        buttonEl.style.display =\n",
              "          google.colab.kernel.accessAllowed ? 'block' : 'none';\n",
              "\n",
              "        async function convertToInteractive(key) {\n",
              "          const element = document.querySelector('#df-dc72e52e-833f-408f-b0f5-b84f90e65d69');\n",
              "          const dataTable =\n",
              "            await google.colab.kernel.invokeFunction('convertToInteractive',\n",
              "                                                     [key], {});\n",
              "          if (!dataTable) return;\n",
              "\n",
              "          const docLinkHtml = 'Like what you see? Visit the ' +\n",
              "            '<a target=\"_blank\" href=https://colab.research.google.com/notebooks/data_table.ipynb>data table notebook</a>'\n",
              "            + ' to learn more about interactive tables.';\n",
              "          element.innerHTML = '';\n",
              "          dataTable['output_type'] = 'display_data';\n",
              "          await google.colab.output.renderOutput(dataTable, element);\n",
              "          const docLink = document.createElement('div');\n",
              "          docLink.innerHTML = docLinkHtml;\n",
              "          element.appendChild(docLink);\n",
              "        }\n",
              "      </script>\n",
              "    </div>\n",
              "  </div>\n",
              "  "
            ]
          },
          "metadata": {},
          "execution_count": 528
        }
      ]
    },
    {
      "cell_type": "code",
      "source": [
        "df.head()"
      ],
      "metadata": {
        "colab": {
          "base_uri": "https://localhost:8080/",
          "height": 206
        },
        "id": "VUnPFzbd7FLz",
        "outputId": "ca7202e7-a9f6-4b38-f7e3-7af848cbd56b"
      },
      "execution_count": 529,
      "outputs": [
        {
          "output_type": "execute_result",
          "data": {
            "text/plain": [
              "                                             content  \\\n",
              "0                             Get fucking real dude.   \n",
              "1   She is as dirty as they come  and that crook ...   \n",
              "2   why did you fuck it up. I could do it all day...   \n",
              "3   Dude they dont finish enclosing the fucking s...   \n",
              "4   WTF are you talking about Men? No men thats n...   \n",
              "\n",
              "                      annotation  extras label  \n",
              "0  {'notes': '', 'label': ['1']}     NaN     1  \n",
              "1  {'notes': '', 'label': ['1']}     NaN     1  \n",
              "2  {'notes': '', 'label': ['1']}     NaN     1  \n",
              "3  {'notes': '', 'label': ['1']}     NaN     1  \n",
              "4  {'notes': '', 'label': ['1']}     NaN     1  "
            ],
            "text/html": [
              "\n",
              "  <div id=\"df-025d37aa-3bc4-4a01-bbbc-3cd8b0cf9860\">\n",
              "    <div class=\"colab-df-container\">\n",
              "      <div>\n",
              "<style scoped>\n",
              "    .dataframe tbody tr th:only-of-type {\n",
              "        vertical-align: middle;\n",
              "    }\n",
              "\n",
              "    .dataframe tbody tr th {\n",
              "        vertical-align: top;\n",
              "    }\n",
              "\n",
              "    .dataframe thead th {\n",
              "        text-align: right;\n",
              "    }\n",
              "</style>\n",
              "<table border=\"1\" class=\"dataframe\">\n",
              "  <thead>\n",
              "    <tr style=\"text-align: right;\">\n",
              "      <th></th>\n",
              "      <th>content</th>\n",
              "      <th>annotation</th>\n",
              "      <th>extras</th>\n",
              "      <th>label</th>\n",
              "    </tr>\n",
              "  </thead>\n",
              "  <tbody>\n",
              "    <tr>\n",
              "      <th>0</th>\n",
              "      <td>Get fucking real dude.</td>\n",
              "      <td>{'notes': '', 'label': ['1']}</td>\n",
              "      <td>NaN</td>\n",
              "      <td>1</td>\n",
              "    </tr>\n",
              "    <tr>\n",
              "      <th>1</th>\n",
              "      <td>She is as dirty as they come  and that crook ...</td>\n",
              "      <td>{'notes': '', 'label': ['1']}</td>\n",
              "      <td>NaN</td>\n",
              "      <td>1</td>\n",
              "    </tr>\n",
              "    <tr>\n",
              "      <th>2</th>\n",
              "      <td>why did you fuck it up. I could do it all day...</td>\n",
              "      <td>{'notes': '', 'label': ['1']}</td>\n",
              "      <td>NaN</td>\n",
              "      <td>1</td>\n",
              "    </tr>\n",
              "    <tr>\n",
              "      <th>3</th>\n",
              "      <td>Dude they dont finish enclosing the fucking s...</td>\n",
              "      <td>{'notes': '', 'label': ['1']}</td>\n",
              "      <td>NaN</td>\n",
              "      <td>1</td>\n",
              "    </tr>\n",
              "    <tr>\n",
              "      <th>4</th>\n",
              "      <td>WTF are you talking about Men? No men thats n...</td>\n",
              "      <td>{'notes': '', 'label': ['1']}</td>\n",
              "      <td>NaN</td>\n",
              "      <td>1</td>\n",
              "    </tr>\n",
              "  </tbody>\n",
              "</table>\n",
              "</div>\n",
              "      <button class=\"colab-df-convert\" onclick=\"convertToInteractive('df-025d37aa-3bc4-4a01-bbbc-3cd8b0cf9860')\"\n",
              "              title=\"Convert this dataframe to an interactive table.\"\n",
              "              style=\"display:none;\">\n",
              "        \n",
              "  <svg xmlns=\"http://www.w3.org/2000/svg\" height=\"24px\"viewBox=\"0 0 24 24\"\n",
              "       width=\"24px\">\n",
              "    <path d=\"M0 0h24v24H0V0z\" fill=\"none\"/>\n",
              "    <path d=\"M18.56 5.44l.94 2.06.94-2.06 2.06-.94-2.06-.94-.94-2.06-.94 2.06-2.06.94zm-11 1L8.5 8.5l.94-2.06 2.06-.94-2.06-.94L8.5 2.5l-.94 2.06-2.06.94zm10 10l.94 2.06.94-2.06 2.06-.94-2.06-.94-.94-2.06-.94 2.06-2.06.94z\"/><path d=\"M17.41 7.96l-1.37-1.37c-.4-.4-.92-.59-1.43-.59-.52 0-1.04.2-1.43.59L10.3 9.45l-7.72 7.72c-.78.78-.78 2.05 0 2.83L4 21.41c.39.39.9.59 1.41.59.51 0 1.02-.2 1.41-.59l7.78-7.78 2.81-2.81c.8-.78.8-2.07 0-2.86zM5.41 20L4 18.59l7.72-7.72 1.47 1.35L5.41 20z\"/>\n",
              "  </svg>\n",
              "      </button>\n",
              "      \n",
              "  <style>\n",
              "    .colab-df-container {\n",
              "      display:flex;\n",
              "      flex-wrap:wrap;\n",
              "      gap: 12px;\n",
              "    }\n",
              "\n",
              "    .colab-df-convert {\n",
              "      background-color: #E8F0FE;\n",
              "      border: none;\n",
              "      border-radius: 50%;\n",
              "      cursor: pointer;\n",
              "      display: none;\n",
              "      fill: #1967D2;\n",
              "      height: 32px;\n",
              "      padding: 0 0 0 0;\n",
              "      width: 32px;\n",
              "    }\n",
              "\n",
              "    .colab-df-convert:hover {\n",
              "      background-color: #E2EBFA;\n",
              "      box-shadow: 0px 1px 2px rgba(60, 64, 67, 0.3), 0px 1px 3px 1px rgba(60, 64, 67, 0.15);\n",
              "      fill: #174EA6;\n",
              "    }\n",
              "\n",
              "    [theme=dark] .colab-df-convert {\n",
              "      background-color: #3B4455;\n",
              "      fill: #D2E3FC;\n",
              "    }\n",
              "\n",
              "    [theme=dark] .colab-df-convert:hover {\n",
              "      background-color: #434B5C;\n",
              "      box-shadow: 0px 1px 3px 1px rgba(0, 0, 0, 0.15);\n",
              "      filter: drop-shadow(0px 1px 2px rgba(0, 0, 0, 0.3));\n",
              "      fill: #FFFFFF;\n",
              "    }\n",
              "  </style>\n",
              "\n",
              "      <script>\n",
              "        const buttonEl =\n",
              "          document.querySelector('#df-025d37aa-3bc4-4a01-bbbc-3cd8b0cf9860 button.colab-df-convert');\n",
              "        buttonEl.style.display =\n",
              "          google.colab.kernel.accessAllowed ? 'block' : 'none';\n",
              "\n",
              "        async function convertToInteractive(key) {\n",
              "          const element = document.querySelector('#df-025d37aa-3bc4-4a01-bbbc-3cd8b0cf9860');\n",
              "          const dataTable =\n",
              "            await google.colab.kernel.invokeFunction('convertToInteractive',\n",
              "                                                     [key], {});\n",
              "          if (!dataTable) return;\n",
              "\n",
              "          const docLinkHtml = 'Like what you see? Visit the ' +\n",
              "            '<a target=\"_blank\" href=https://colab.research.google.com/notebooks/data_table.ipynb>data table notebook</a>'\n",
              "            + ' to learn more about interactive tables.';\n",
              "          element.innerHTML = '';\n",
              "          dataTable['output_type'] = 'display_data';\n",
              "          await google.colab.output.renderOutput(dataTable, element);\n",
              "          const docLink = document.createElement('div');\n",
              "          docLink.innerHTML = docLinkHtml;\n",
              "          element.appendChild(docLink);\n",
              "        }\n",
              "      </script>\n",
              "    </div>\n",
              "  </div>\n",
              "  "
            ]
          },
          "metadata": {},
          "execution_count": 529
        }
      ]
    },
    {
      "cell_type": "code",
      "source": [
        "df = df.drop(['annotation','extras'],axis='columns')"
      ],
      "metadata": {
        "id": "3hil1ziL3sfE"
      },
      "execution_count": 530,
      "outputs": []
    },
    {
      "cell_type": "code",
      "source": [
        "bully = df[df.label==1]\n",
        "nonbully = df[df.label==0]"
      ],
      "metadata": {
        "id": "O24evpxs5wSv"
      },
      "execution_count": 531,
      "outputs": []
    },
    {
      "cell_type": "code",
      "source": [
        "df.head()"
      ],
      "metadata": {
        "colab": {
          "base_uri": "https://localhost:8080/",
          "height": 206
        },
        "id": "0VySPssg4Lvf",
        "outputId": "efd6fcab-2c8d-4bc0-b0b3-358d8b82a8fd"
      },
      "execution_count": 532,
      "outputs": [
        {
          "output_type": "execute_result",
          "data": {
            "text/plain": [
              "                                             content label\n",
              "0                             Get fucking real dude.     1\n",
              "1   She is as dirty as they come  and that crook ...     1\n",
              "2   why did you fuck it up. I could do it all day...     1\n",
              "3   Dude they dont finish enclosing the fucking s...     1\n",
              "4   WTF are you talking about Men? No men thats n...     1"
            ],
            "text/html": [
              "\n",
              "  <div id=\"df-b08939a1-445f-411c-b5b0-00c2bfcdd620\">\n",
              "    <div class=\"colab-df-container\">\n",
              "      <div>\n",
              "<style scoped>\n",
              "    .dataframe tbody tr th:only-of-type {\n",
              "        vertical-align: middle;\n",
              "    }\n",
              "\n",
              "    .dataframe tbody tr th {\n",
              "        vertical-align: top;\n",
              "    }\n",
              "\n",
              "    .dataframe thead th {\n",
              "        text-align: right;\n",
              "    }\n",
              "</style>\n",
              "<table border=\"1\" class=\"dataframe\">\n",
              "  <thead>\n",
              "    <tr style=\"text-align: right;\">\n",
              "      <th></th>\n",
              "      <th>content</th>\n",
              "      <th>label</th>\n",
              "    </tr>\n",
              "  </thead>\n",
              "  <tbody>\n",
              "    <tr>\n",
              "      <th>0</th>\n",
              "      <td>Get fucking real dude.</td>\n",
              "      <td>1</td>\n",
              "    </tr>\n",
              "    <tr>\n",
              "      <th>1</th>\n",
              "      <td>She is as dirty as they come  and that crook ...</td>\n",
              "      <td>1</td>\n",
              "    </tr>\n",
              "    <tr>\n",
              "      <th>2</th>\n",
              "      <td>why did you fuck it up. I could do it all day...</td>\n",
              "      <td>1</td>\n",
              "    </tr>\n",
              "    <tr>\n",
              "      <th>3</th>\n",
              "      <td>Dude they dont finish enclosing the fucking s...</td>\n",
              "      <td>1</td>\n",
              "    </tr>\n",
              "    <tr>\n",
              "      <th>4</th>\n",
              "      <td>WTF are you talking about Men? No men thats n...</td>\n",
              "      <td>1</td>\n",
              "    </tr>\n",
              "  </tbody>\n",
              "</table>\n",
              "</div>\n",
              "      <button class=\"colab-df-convert\" onclick=\"convertToInteractive('df-b08939a1-445f-411c-b5b0-00c2bfcdd620')\"\n",
              "              title=\"Convert this dataframe to an interactive table.\"\n",
              "              style=\"display:none;\">\n",
              "        \n",
              "  <svg xmlns=\"http://www.w3.org/2000/svg\" height=\"24px\"viewBox=\"0 0 24 24\"\n",
              "       width=\"24px\">\n",
              "    <path d=\"M0 0h24v24H0V0z\" fill=\"none\"/>\n",
              "    <path d=\"M18.56 5.44l.94 2.06.94-2.06 2.06-.94-2.06-.94-.94-2.06-.94 2.06-2.06.94zm-11 1L8.5 8.5l.94-2.06 2.06-.94-2.06-.94L8.5 2.5l-.94 2.06-2.06.94zm10 10l.94 2.06.94-2.06 2.06-.94-2.06-.94-.94-2.06-.94 2.06-2.06.94z\"/><path d=\"M17.41 7.96l-1.37-1.37c-.4-.4-.92-.59-1.43-.59-.52 0-1.04.2-1.43.59L10.3 9.45l-7.72 7.72c-.78.78-.78 2.05 0 2.83L4 21.41c.39.39.9.59 1.41.59.51 0 1.02-.2 1.41-.59l7.78-7.78 2.81-2.81c.8-.78.8-2.07 0-2.86zM5.41 20L4 18.59l7.72-7.72 1.47 1.35L5.41 20z\"/>\n",
              "  </svg>\n",
              "      </button>\n",
              "      \n",
              "  <style>\n",
              "    .colab-df-container {\n",
              "      display:flex;\n",
              "      flex-wrap:wrap;\n",
              "      gap: 12px;\n",
              "    }\n",
              "\n",
              "    .colab-df-convert {\n",
              "      background-color: #E8F0FE;\n",
              "      border: none;\n",
              "      border-radius: 50%;\n",
              "      cursor: pointer;\n",
              "      display: none;\n",
              "      fill: #1967D2;\n",
              "      height: 32px;\n",
              "      padding: 0 0 0 0;\n",
              "      width: 32px;\n",
              "    }\n",
              "\n",
              "    .colab-df-convert:hover {\n",
              "      background-color: #E2EBFA;\n",
              "      box-shadow: 0px 1px 2px rgba(60, 64, 67, 0.3), 0px 1px 3px 1px rgba(60, 64, 67, 0.15);\n",
              "      fill: #174EA6;\n",
              "    }\n",
              "\n",
              "    [theme=dark] .colab-df-convert {\n",
              "      background-color: #3B4455;\n",
              "      fill: #D2E3FC;\n",
              "    }\n",
              "\n",
              "    [theme=dark] .colab-df-convert:hover {\n",
              "      background-color: #434B5C;\n",
              "      box-shadow: 0px 1px 3px 1px rgba(0, 0, 0, 0.15);\n",
              "      filter: drop-shadow(0px 1px 2px rgba(0, 0, 0, 0.3));\n",
              "      fill: #FFFFFF;\n",
              "    }\n",
              "  </style>\n",
              "\n",
              "      <script>\n",
              "        const buttonEl =\n",
              "          document.querySelector('#df-b08939a1-445f-411c-b5b0-00c2bfcdd620 button.colab-df-convert');\n",
              "        buttonEl.style.display =\n",
              "          google.colab.kernel.accessAllowed ? 'block' : 'none';\n",
              "\n",
              "        async function convertToInteractive(key) {\n",
              "          const element = document.querySelector('#df-b08939a1-445f-411c-b5b0-00c2bfcdd620');\n",
              "          const dataTable =\n",
              "            await google.colab.kernel.invokeFunction('convertToInteractive',\n",
              "                                                     [key], {});\n",
              "          if (!dataTable) return;\n",
              "\n",
              "          const docLinkHtml = 'Like what you see? Visit the ' +\n",
              "            '<a target=\"_blank\" href=https://colab.research.google.com/notebooks/data_table.ipynb>data table notebook</a>'\n",
              "            + ' to learn more about interactive tables.';\n",
              "          element.innerHTML = '';\n",
              "          dataTable['output_type'] = 'display_data';\n",
              "          await google.colab.output.renderOutput(dataTable, element);\n",
              "          const docLink = document.createElement('div');\n",
              "          docLink.innerHTML = docLinkHtml;\n",
              "          element.appendChild(docLink);\n",
              "        }\n",
              "      </script>\n",
              "    </div>\n",
              "  </div>\n",
              "  "
            ]
          },
          "metadata": {},
          "execution_count": 532
        }
      ]
    },
    {
      "cell_type": "code",
      "source": [
        "x=df.iloc[:,:-1].values#independent-content\n",
        "y=df.iloc[:,-1:].values#dependent-label\n"
      ],
      "metadata": {
        "id": "cp7ym0UV4Oi8"
      },
      "execution_count": 533,
      "outputs": []
    },
    {
      "cell_type": "code",
      "source": [
        "x"
      ],
      "metadata": {
        "colab": {
          "base_uri": "https://localhost:8080/"
        },
        "id": "tHwg6uj04fwm",
        "outputId": "69764346-da9d-4441-eadf-c21bce463f17"
      },
      "execution_count": 534,
      "outputs": [
        {
          "output_type": "execute_result",
          "data": {
            "text/plain": [
              "array([[' Get fucking real dude.'],\n",
              "       [\" She is as dirty as they come  and that crook Rengel  the Dems are so fucking corrupt it's a joke. Make Republicans look like  ...\"],\n",
              "       [\" why did you fuck it up. I could do it all day too. Let's do it when you have an hour. Ping me later to sched writing a book here.\"],\n",
              "       ...,\n",
              "       ['  hahahahaha >:) im evil mwahahahahahahahahaha'],\n",
              "       [' What&;s something unique about Ohio? :)'],\n",
              "       [' Who is the biggest gossiper you know?']], dtype=object)"
            ]
          },
          "metadata": {},
          "execution_count": 534
        }
      ]
    },
    {
      "cell_type": "code",
      "source": [
        "y"
      ],
      "metadata": {
        "colab": {
          "base_uri": "https://localhost:8080/"
        },
        "id": "yPTQp-DV4iq1",
        "outputId": "0f492d17-2fff-4530-bcd4-0062ccc6eb88"
      },
      "execution_count": 535,
      "outputs": [
        {
          "output_type": "execute_result",
          "data": {
            "text/plain": [
              "array([['1'],\n",
              "       ['1'],\n",
              "       ['1'],\n",
              "       ...,\n",
              "       ['0'],\n",
              "       ['0'],\n",
              "       ['0']], dtype=object)"
            ]
          },
          "metadata": {},
          "execution_count": 535
        }
      ]
    },
    {
      "cell_type": "code",
      "source": [
        "#splitting\n",
        "from sklearn.model_selection import train_test_split\n",
        "x_train,x_test,y_train,y_test=train_test_split(x,y,test_size=0.2,random_state=1,shuffle=True)"
      ],
      "metadata": {
        "id": "StNJ5ZTa4kLz"
      },
      "execution_count": 536,
      "outputs": []
    },
    {
      "cell_type": "code",
      "source": [
        "x_train"
      ],
      "metadata": {
        "colab": {
          "base_uri": "https://localhost:8080/"
        },
        "id": "aNAC6cqe4uF0",
        "outputId": "fbbe3db6-1561-4b73-8206-7f3a0ed16c6f"
      },
      "execution_count": 537,
      "outputs": [
        {
          "output_type": "execute_result",
          "data": {
            "text/plain": [
              "array([['You know all about some interpretive gay dancing.'],\n",
              "       ['depends on your plan. if you pay out the ass for it  no.'],\n",
              "       [\"ripping off Emo Phillips + ba-dum-bum jokes wouldn't get my vote even if i was the web-voter type.\"],\n",
              "       ...,\n",
              "       ['ass get out its ur last day damn it!'],\n",
              "       ['fucking awesome - I need to play that again'],\n",
              "       ['fuck duke!']], dtype=object)"
            ]
          },
          "metadata": {},
          "execution_count": 537
        }
      ]
    },
    {
      "cell_type": "code",
      "source": [
        "y_train"
      ],
      "metadata": {
        "colab": {
          "base_uri": "https://localhost:8080/"
        },
        "id": "_ahR0BIy4wtv",
        "outputId": "e2fa4baa-4b75-47f4-ef04-a6e3b20ac6c7"
      },
      "execution_count": 538,
      "outputs": [
        {
          "output_type": "execute_result",
          "data": {
            "text/plain": [
              "array([['1'],\n",
              "       ['1'],\n",
              "       ['1'],\n",
              "       ...,\n",
              "       ['1'],\n",
              "       ['0'],\n",
              "       ['1']], dtype=object)"
            ]
          },
          "metadata": {},
          "execution_count": 538
        }
      ]
    },
    {
      "cell_type": "code",
      "source": [
        "x_test"
      ],
      "metadata": {
        "colab": {
          "base_uri": "https://localhost:8080/"
        },
        "id": "7tx3iepy4yyU",
        "outputId": "bb74a58c-fdd1-4600-f0ac-4565ad855ddd"
      },
      "execution_count": 539,
      "outputs": [
        {
          "output_type": "execute_result",
          "data": {
            "text/plain": [
              "array([['I miss you you crazy fuck.'],\n",
              "       [' Are you listening to any music right now?  If so  what is it?'],\n",
              "       ['#NAME?'],\n",
              "       ...,\n",
              "       ['  okay forsurre(::'],\n",
              "       [\"I'd hate to sound jaded  but daft punk ruined everyone else because they could never come close. :( robot human\"],\n",
              "       [\"The JVC (LCD) Reference Monitor I have is  in a word  awe-fucking-some. :)  It's great  accurate and as good as it gets. It's ~ $4k\"]],\n",
              "      dtype=object)"
            ]
          },
          "metadata": {},
          "execution_count": 539
        }
      ]
    },
    {
      "cell_type": "code",
      "source": [
        "y_test"
      ],
      "metadata": {
        "colab": {
          "base_uri": "https://localhost:8080/"
        },
        "id": "cz257J8T40nL",
        "outputId": "3cf30aef-f093-4986-b10a-cb112edc43c5"
      },
      "execution_count": 540,
      "outputs": [
        {
          "output_type": "execute_result",
          "data": {
            "text/plain": [
              "array([['0'],\n",
              "       ['0'],\n",
              "       ['1'],\n",
              "       ...,\n",
              "       ['0'],\n",
              "       ['0'],\n",
              "       ['1']], dtype=object)"
            ]
          },
          "metadata": {},
          "execution_count": 540
        }
      ]
    },
    {
      "cell_type": "code",
      "source": [
        "#preprocessing\n",
        "from sklearn.feature_extraction.text import CountVectorizer\n",
        "count_vector=CountVectorizer()\n",
        "print(count_vector)"
      ],
      "metadata": {
        "colab": {
          "base_uri": "https://localhost:8080/"
        },
        "id": "7PSZBGRY44Or",
        "outputId": "d0590186-4ed0-47b3-a35f-6d3067f31d0c"
      },
      "execution_count": 541,
      "outputs": [
        {
          "output_type": "stream",
          "name": "stdout",
          "text": [
            "CountVectorizer()\n"
          ]
        }
      ]
    },
    {
      "cell_type": "code",
      "source": [
        "#fit_tranform,transform#transform the training data into freq vectors and return the matrix\n",
        "training_data=count_vector.fit_transform(x_train.flatten())\n",
        "#fit_tranform,transform#transform the testing data into freq vectors and return the matrix\n",
        "testing_data=count_vector.transform(x_test.flatten())"
      ],
      "metadata": {
        "id": "iVk0ylPV47ZZ"
      },
      "execution_count": 542,
      "outputs": []
    },
    {
      "cell_type": "code",
      "source": [
        "x_train.shape"
      ],
      "metadata": {
        "colab": {
          "base_uri": "https://localhost:8080/"
        },
        "id": "XU1446OU4-Qi",
        "outputId": "29819707-1796-4699-f859-53f499904cfb"
      },
      "execution_count": 543,
      "outputs": [
        {
          "output_type": "execute_result",
          "data": {
            "text/plain": [
              "(16000, 1)"
            ]
          },
          "metadata": {},
          "execution_count": 543
        }
      ]
    },
    {
      "cell_type": "code",
      "source": [
        "from sklearn.naive_bayes import MultinomialNB\n",
        "model=MultinomialNB()\n",
        "model.fit(training_data,y_train)"
      ],
      "metadata": {
        "colab": {
          "base_uri": "https://localhost:8080/"
        },
        "id": "2Xyy2-qk5Ax-",
        "outputId": "3625c016-8f3f-4750-d560-28eb42bd61c6"
      },
      "execution_count": 544,
      "outputs": [
        {
          "output_type": "stream",
          "name": "stderr",
          "text": [
            "/usr/local/lib/python3.7/dist-packages/sklearn/utils/validation.py:993: DataConversionWarning: A column-vector y was passed when a 1d array was expected. Please change the shape of y to (n_samples, ), for example using ravel().\n",
            "  y = column_or_1d(y, warn=True)\n"
          ]
        },
        {
          "output_type": "execute_result",
          "data": {
            "text/plain": [
              "MultinomialNB()"
            ]
          },
          "metadata": {},
          "execution_count": 544
        }
      ]
    },
    {
      "cell_type": "code",
      "source": [
        "y_pred=model.predict(testing_data)\n",
        "y_pred"
      ],
      "metadata": {
        "colab": {
          "base_uri": "https://localhost:8080/"
        },
        "id": "BINkKJ1L5G8E",
        "outputId": "abf0b547-bf32-4317-fc7c-9ce7f08871ca"
      },
      "execution_count": 545,
      "outputs": [
        {
          "output_type": "execute_result",
          "data": {
            "text/plain": [
              "array(['1', '0', '0', ..., '0', '0', '1'], dtype='<U1')"
            ]
          },
          "metadata": {},
          "execution_count": 545
        }
      ]
    },
    {
      "cell_type": "code",
      "source": [
        "np.set_printoptions(precision=2)\n",
        "\n",
        "print(np.concatenate((y_pred.reshape(len(y_pred),1),y_test.reshape(len(y_test),1)),1))"
      ],
      "metadata": {
        "colab": {
          "base_uri": "https://localhost:8080/"
        },
        "id": "dGoI55Rk5JbL",
        "outputId": "b923de9a-8b5b-4b12-f345-7e432bcf3b62"
      },
      "execution_count": 546,
      "outputs": [
        {
          "output_type": "stream",
          "name": "stdout",
          "text": [
            "[['1' '0']\n",
            " ['0' '0']\n",
            " ['0' '1']\n",
            " ...\n",
            " ['0' '0']\n",
            " ['0' '0']\n",
            " ['1' '1']]\n"
          ]
        }
      ]
    },
    {
      "cell_type": "code",
      "source": [
        "print(\"predicted value for training data:\",model.score(training_data,y_train))\n",
        "print(\"predicted value for testing data:\",model.score(testing_data,y_test))"
      ],
      "metadata": {
        "colab": {
          "base_uri": "https://localhost:8080/"
        },
        "id": "PjzlM6cU5M67",
        "outputId": "c61a5f59-00fc-4339-d3cb-f15bc20d6016"
      },
      "execution_count": 547,
      "outputs": [
        {
          "output_type": "stream",
          "name": "stdout",
          "text": [
            "predicted value for training data: 0.882125\n",
            "predicted value for testing data: 0.7933016745813547\n"
          ]
        }
      ]
    },
    {
      "cell_type": "code",
      "source": [
        "from sklearn.metrics import confusion_matrix,accuracy_score\n",
        "cm = confusion_matrix(y_test, y_pred)\n",
        "print(cm)\n",
        "print(accuracy_score(y_test, y_pred))#TN FN FP TP"
      ],
      "metadata": {
        "colab": {
          "base_uri": "https://localhost:8080/"
        },
        "id": "klg7Kckh5P3-",
        "outputId": "0df5fa22-d02a-45f5-b709-458c3da5a860"
      },
      "execution_count": 548,
      "outputs": [
        {
          "output_type": "stream",
          "name": "stdout",
          "text": [
            "[[1985  417]\n",
            " [ 410 1189]]\n",
            "0.7933016745813547\n"
          ]
        }
      ]
    },
    {
      "cell_type": "code",
      "source": [
        "TN=1985\n",
        "FN=417\n",
        "FP=410\n",
        "TP=1189\n",
        "accuracy_naive=(TP+TN)/(TP+TN+FN+FP)\n",
        "print(accuracy_naive*100)"
      ],
      "metadata": {
        "colab": {
          "base_uri": "https://localhost:8080/"
        },
        "id": "IZ0SoAU55UPU",
        "outputId": "c1f8b7bf-f642-425a-eee4-5ff2cf72f399"
      },
      "execution_count": 596,
      "outputs": [
        {
          "output_type": "stream",
          "name": "stdout",
          "text": [
            "79.33016745813546\n"
          ]
        }
      ]
    },
    {
      "cell_type": "code",
      "source": [
        "bully = df[df.label==1]\n",
        "nonbully = df[df.label==0]"
      ],
      "metadata": {
        "id": "EeRzNDBo8r6y"
      },
      "execution_count": 550,
      "outputs": []
    },
    {
      "cell_type": "code",
      "source": [
        "x=df.iloc[:,:-1].values#independent-content\n",
        "y=df.iloc[:,-1:].values#dependent-label\n"
      ],
      "metadata": {
        "id": "zpVvYo9C8mbS"
      },
      "execution_count": 551,
      "outputs": []
    },
    {
      "cell_type": "code",
      "source": [
        "#splitting\n",
        "from sklearn.model_selection import train_test_split\n",
        "x_train,x_test,y_train,y_test=train_test_split(x,y,test_size=0.2,random_state=1,shuffle=True)"
      ],
      "metadata": {
        "id": "QCjCw30Q79Qz"
      },
      "execution_count": 552,
      "outputs": []
    },
    {
      "cell_type": "code",
      "source": [
        "#preprocessing\n",
        "from sklearn.feature_extraction.text import CountVectorizer\n",
        "count_vector=CountVectorizer()\n",
        "print(count_vector)"
      ],
      "metadata": {
        "colab": {
          "base_uri": "https://localhost:8080/"
        },
        "id": "BO5m4gkr8BdM",
        "outputId": "5a734166-5663-4e61-e3b6-b17e0fd4b888"
      },
      "execution_count": 553,
      "outputs": [
        {
          "output_type": "stream",
          "name": "stdout",
          "text": [
            "CountVectorizer()\n"
          ]
        }
      ]
    },
    {
      "cell_type": "code",
      "source": [
        "#fit_tranform,transform#transform the training data into freq vectors and return the matrix\n",
        "training_data=count_vector.fit_transform(x_train.flatten())\n",
        "#fit_tranform,transform#transform the testing data into freq vectors and return the matrix\n",
        "testing_data=count_vector.transform(x_test.flatten())"
      ],
      "metadata": {
        "id": "Tflit9tl8HYU"
      },
      "execution_count": 554,
      "outputs": []
    },
    {
      "cell_type": "code",
      "source": [
        "from sklearn.linear_model import LogisticRegression\n",
        "logistic=LogisticRegression()\n",
        "logistic.fit(training_data,y_train)\n"
      ],
      "metadata": {
        "colab": {
          "base_uri": "https://localhost:8080/"
        },
        "id": "6fv2JBKd7USk",
        "outputId": "366e21f9-6235-4faf-8486-c796285da1a4"
      },
      "execution_count": 555,
      "outputs": [
        {
          "output_type": "stream",
          "name": "stderr",
          "text": [
            "/usr/local/lib/python3.7/dist-packages/sklearn/utils/validation.py:993: DataConversionWarning: A column-vector y was passed when a 1d array was expected. Please change the shape of y to (n_samples, ), for example using ravel().\n",
            "  y = column_or_1d(y, warn=True)\n",
            "/usr/local/lib/python3.7/dist-packages/sklearn/linear_model/_logistic.py:818: ConvergenceWarning: lbfgs failed to converge (status=1):\n",
            "STOP: TOTAL NO. of ITERATIONS REACHED LIMIT.\n",
            "\n",
            "Increase the number of iterations (max_iter) or scale the data as shown in:\n",
            "    https://scikit-learn.org/stable/modules/preprocessing.html\n",
            "Please also refer to the documentation for alternative solver options:\n",
            "    https://scikit-learn.org/stable/modules/linear_model.html#logistic-regression\n",
            "  extra_warning_msg=_LOGISTIC_SOLVER_CONVERGENCE_MSG,\n"
          ]
        },
        {
          "output_type": "execute_result",
          "data": {
            "text/plain": [
              "LogisticRegression()"
            ]
          },
          "metadata": {},
          "execution_count": 555
        }
      ]
    },
    {
      "cell_type": "code",
      "source": [
        "y_pred=logistic.predict(testing_data)\n",
        "y_pred"
      ],
      "metadata": {
        "colab": {
          "base_uri": "https://localhost:8080/"
        },
        "id": "liwctQ5i8NEx",
        "outputId": "b9ab7e8d-f4a5-4cd3-f26c-6326c19e337b"
      },
      "execution_count": 556,
      "outputs": [
        {
          "output_type": "execute_result",
          "data": {
            "text/plain": [
              "array(['1', '0', '0', ..., '0', '1', '1'], dtype=object)"
            ]
          },
          "metadata": {},
          "execution_count": 556
        }
      ]
    },
    {
      "cell_type": "code",
      "source": [
        "np.set_printoptions(precision=2)\n",
        "\n",
        "print(np.concatenate((y_pred.reshape(len(y_pred),1),y_test.reshape(len(y_test),1)),1))"
      ],
      "metadata": {
        "colab": {
          "base_uri": "https://localhost:8080/"
        },
        "id": "zMWjkykX8Rh0",
        "outputId": "e625d50c-e9eb-40d0-e129-f962df7918f2"
      },
      "execution_count": 557,
      "outputs": [
        {
          "output_type": "stream",
          "name": "stdout",
          "text": [
            "[['1' '0']\n",
            " ['0' '0']\n",
            " ['0' '1']\n",
            " ...\n",
            " ['0' '0']\n",
            " ['1' '0']\n",
            " ['1' '1']]\n"
          ]
        }
      ]
    },
    {
      "cell_type": "code",
      "source": [
        "print(\"predicted value for training data:\",logistic.score(training_data,y_train))\n",
        "print(\"predicted value for testing data:\",logistic.score(testing_data,y_test))"
      ],
      "metadata": {
        "colab": {
          "base_uri": "https://localhost:8080/"
        },
        "id": "jyH7TGmk8Vwu",
        "outputId": "fc84aa5d-4845-4407-dc49-7613645a018c"
      },
      "execution_count": 558,
      "outputs": [
        {
          "output_type": "stream",
          "name": "stdout",
          "text": [
            "predicted value for training data: 0.9328125\n",
            "predicted value for testing data: 0.8250437390652337\n"
          ]
        }
      ]
    },
    {
      "cell_type": "code",
      "source": [
        "from sklearn.metrics import confusion_matrix,accuracy_score\n",
        "cm = confusion_matrix(y_test, y_pred)\n",
        "print(cm)\n",
        "print(accuracy_score(y_test, y_pred))#TN FN FP TP"
      ],
      "metadata": {
        "colab": {
          "base_uri": "https://localhost:8080/"
        },
        "id": "0p1aU_jg8Z-7",
        "outputId": "a1b3151b-2591-4e7f-85a6-21239f57d875"
      },
      "execution_count": 559,
      "outputs": [
        {
          "output_type": "stream",
          "name": "stdout",
          "text": [
            "[[1965  437]\n",
            " [ 263 1336]]\n",
            "0.8250437390652337\n"
          ]
        }
      ]
    },
    {
      "cell_type": "code",
      "source": [
        "TN=1965\n",
        "FN=437\n",
        "FP=263\n",
        "TP=1336\n",
        "accuracy_logistic=(TP+TN)/(TP+TN+FN+FP)\n",
        "print(accuracy_logistic*100)"
      ],
      "metadata": {
        "colab": {
          "base_uri": "https://localhost:8080/"
        },
        "id": "E3NH-L4v9qdp",
        "outputId": "d5c96b4d-2552-4594-ea93-c944cd0cd9f8"
      },
      "execution_count": 560,
      "outputs": [
        {
          "output_type": "stream",
          "name": "stdout",
          "text": [
            "82.50437390652337\n"
          ]
        }
      ]
    },
    {
      "cell_type": "code",
      "source": [
        "#splitting\n",
        "from sklearn.model_selection import train_test_split\n",
        "x_train,x_test,y_train,y_test=train_test_split(x,y,test_size=0.2,random_state=1,shuffle=True)"
      ],
      "metadata": {
        "id": "qw5LE4E994dd"
      },
      "execution_count": 561,
      "outputs": []
    },
    {
      "cell_type": "code",
      "source": [
        "#preprocessing\n",
        "from sklearn.feature_extraction.text import CountVectorizer\n",
        "count_vector=CountVectorizer()\n",
        "print(count_vector)"
      ],
      "metadata": {
        "colab": {
          "base_uri": "https://localhost:8080/"
        },
        "id": "g5cMxLya95Ep",
        "outputId": "b8a79582-a4a1-4df5-b6bd-518aacc9d4e8"
      },
      "execution_count": 562,
      "outputs": [
        {
          "output_type": "stream",
          "name": "stdout",
          "text": [
            "CountVectorizer()\n"
          ]
        }
      ]
    },
    {
      "cell_type": "code",
      "source": [
        "#fit_tranform,transform#transform the training data into freq vectors and return the matrix\n",
        "training_data=count_vector.fit_transform(x_train.flatten())\n",
        "#fit_tranform,transform#transform the testing data into freq vectors and return the matrix\n",
        "testing_data=count_vector.transform(x_test.flatten())"
      ],
      "metadata": {
        "id": "QURXpeNA98ch"
      },
      "execution_count": 563,
      "outputs": []
    },
    {
      "cell_type": "code",
      "source": [
        "from sklearn.tree import DecisionTreeClassifier\n",
        "tree=DecisionTreeClassifier()\n",
        "tree.fit(training_data,y_train)"
      ],
      "metadata": {
        "colab": {
          "base_uri": "https://localhost:8080/"
        },
        "id": "OLrA2tiq9bn8",
        "outputId": "809146bb-8625-4439-c6fd-a1368f0e8442"
      },
      "execution_count": 564,
      "outputs": [
        {
          "output_type": "execute_result",
          "data": {
            "text/plain": [
              "DecisionTreeClassifier()"
            ]
          },
          "metadata": {},
          "execution_count": 564
        }
      ]
    },
    {
      "cell_type": "code",
      "source": [
        "y_pred=tree.predict(testing_data)\n",
        "y_pred"
      ],
      "metadata": {
        "colab": {
          "base_uri": "https://localhost:8080/"
        },
        "id": "TFa3CUx89zoR",
        "outputId": "735b1adb-638b-440c-b61c-04887cd16395"
      },
      "execution_count": 565,
      "outputs": [
        {
          "output_type": "execute_result",
          "data": {
            "text/plain": [
              "array(['1', '0', '0', ..., '0', '1', '1'], dtype=object)"
            ]
          },
          "metadata": {},
          "execution_count": 565
        }
      ]
    },
    {
      "cell_type": "code",
      "source": [
        "np.set_printoptions(precision=2)\n",
        "\n",
        "print(np.concatenate((y_pred.reshape(len(y_pred),1),y_test.reshape(len(y_test),1)),1))"
      ],
      "metadata": {
        "colab": {
          "base_uri": "https://localhost:8080/"
        },
        "id": "CCFRGKNa-FUB",
        "outputId": "803a7820-6eeb-4648-f071-ae5bbcbd5773"
      },
      "execution_count": 566,
      "outputs": [
        {
          "output_type": "stream",
          "name": "stdout",
          "text": [
            "[['1' '0']\n",
            " ['0' '0']\n",
            " ['0' '1']\n",
            " ...\n",
            " ['0' '0']\n",
            " ['1' '0']\n",
            " ['1' '1']]\n"
          ]
        }
      ]
    },
    {
      "cell_type": "code",
      "source": [
        "print(\"predicted value for training data:\",tree.score(training_data,y_train))\n",
        "print(\"predicted value for testing data:\",tree.score(testing_data,y_test))"
      ],
      "metadata": {
        "colab": {
          "base_uri": "https://localhost:8080/"
        },
        "id": "smSmwZgh-IzA",
        "outputId": "e2468aea-7b3f-4e5a-bf70-6dcdddaa9426"
      },
      "execution_count": 567,
      "outputs": [
        {
          "output_type": "stream",
          "name": "stdout",
          "text": [
            "predicted value for training data: 0.9956875\n",
            "predicted value for testing data: 0.8490377405648588\n"
          ]
        }
      ]
    },
    {
      "cell_type": "code",
      "source": [
        "from sklearn.metrics import confusion_matrix,accuracy_score\n",
        "cm = confusion_matrix(y_test, y_pred)\n",
        "print(cm)\n",
        "print(accuracy_score(y_test, y_pred))#TN FN FP TP"
      ],
      "metadata": {
        "colab": {
          "base_uri": "https://localhost:8080/"
        },
        "id": "89kZaRE3-OwO",
        "outputId": "8712c17e-5300-4968-f554-c044710702bc"
      },
      "execution_count": 568,
      "outputs": [
        {
          "output_type": "stream",
          "name": "stdout",
          "text": [
            "[[1887  515]\n",
            " [  89 1510]]\n",
            "0.8490377405648588\n"
          ]
        }
      ]
    },
    {
      "cell_type": "code",
      "source": [
        "TN=1916\n",
        "FN=486\n",
        "FP=85\n",
        "TP=1514\n",
        "accuracy_decision=(TP+TN)/(TP+TN+FN+FP)\n",
        "print(accuracy_decision*100)"
      ],
      "metadata": {
        "colab": {
          "base_uri": "https://localhost:8080/"
        },
        "id": "8LxYD-pP-Sef",
        "outputId": "4503ed5b-4d94-40ee-dbf7-938dac34e329"
      },
      "execution_count": 569,
      "outputs": [
        {
          "output_type": "stream",
          "name": "stdout",
          "text": [
            "85.72856785803549\n"
          ]
        }
      ]
    },
    {
      "cell_type": "code",
      "source": [
        "from sklearn.neighbors import KNeighborsClassifier\n",
        "knn=KNeighborsClassifier()\n",
        "knn.fit(training_data,y_train)"
      ],
      "metadata": {
        "colab": {
          "base_uri": "https://localhost:8080/"
        },
        "id": "UhPEYZr5-aB5",
        "outputId": "0e1e97ba-2b44-4753-a0e1-2715fd381f68"
      },
      "execution_count": 570,
      "outputs": [
        {
          "output_type": "stream",
          "name": "stderr",
          "text": [
            "/usr/local/lib/python3.7/dist-packages/sklearn/neighbors/_classification.py:198: DataConversionWarning: A column-vector y was passed when a 1d array was expected. Please change the shape of y to (n_samples,), for example using ravel().\n",
            "  return self._fit(X, y)\n"
          ]
        },
        {
          "output_type": "execute_result",
          "data": {
            "text/plain": [
              "KNeighborsClassifier()"
            ]
          },
          "metadata": {},
          "execution_count": 570
        }
      ]
    },
    {
      "cell_type": "code",
      "source": [
        "y_pred=knn.predict(testing_data)\n",
        "y_pred"
      ],
      "metadata": {
        "colab": {
          "base_uri": "https://localhost:8080/"
        },
        "id": "RVku9-VD_M5K",
        "outputId": "176f9714-ed87-4b94-87a3-4f7f97358c6e"
      },
      "execution_count": 571,
      "outputs": [
        {
          "output_type": "execute_result",
          "data": {
            "text/plain": [
              "array(['1', '0', '0', ..., '0', '0', '1'], dtype=object)"
            ]
          },
          "metadata": {},
          "execution_count": 571
        }
      ]
    },
    {
      "cell_type": "code",
      "source": [
        "np.set_printoptions(precision=2)\n",
        "\n",
        "print(np.concatenate((y_pred.reshape(len(y_pred),1),y_test.reshape(len(y_test),1)),1))"
      ],
      "metadata": {
        "colab": {
          "base_uri": "https://localhost:8080/"
        },
        "id": "og8neQEK_UAi",
        "outputId": "c40c9461-d7bc-404a-beaf-bd8aa8490778"
      },
      "execution_count": 572,
      "outputs": [
        {
          "output_type": "stream",
          "name": "stdout",
          "text": [
            "[['1' '0']\n",
            " ['0' '0']\n",
            " ['0' '1']\n",
            " ...\n",
            " ['0' '0']\n",
            " ['0' '0']\n",
            " ['1' '1']]\n"
          ]
        }
      ]
    },
    {
      "cell_type": "code",
      "source": [
        "print(\"predicted value for training data:\",knn.score(training_data,y_train))\n",
        "print(\"predicted value for testing data:\",knn.score(testing_data,y_test))"
      ],
      "metadata": {
        "colab": {
          "base_uri": "https://localhost:8080/"
        },
        "id": "cRlqdIYw_XKb",
        "outputId": "39948dec-7cc9-4710-ae38-2a397a3578a6"
      },
      "execution_count": 573,
      "outputs": [
        {
          "output_type": "stream",
          "name": "stdout",
          "text": [
            "predicted value for training data: 0.8146875\n",
            "predicted value for testing data: 0.6985753561609598\n"
          ]
        }
      ]
    },
    {
      "cell_type": "code",
      "source": [
        "from sklearn.metrics import confusion_matrix,accuracy_score\n",
        "cm = confusion_matrix(y_test, y_pred)\n",
        "print(cm)\n",
        "print(accuracy_score(y_test, y_pred))#TN FN FP TP"
      ],
      "metadata": {
        "colab": {
          "base_uri": "https://localhost:8080/"
        },
        "id": "-b1-ppfS_hAG",
        "outputId": "8b2b978f-cd92-4469-f6f1-65a0cd007ef2"
      },
      "execution_count": 574,
      "outputs": [
        {
          "output_type": "stream",
          "name": "stdout",
          "text": [
            "[[1684  718]\n",
            " [ 488 1111]]\n",
            "0.6985753561609598\n"
          ]
        }
      ]
    },
    {
      "cell_type": "code",
      "source": [
        "TN=1684\n",
        "FN=718\n",
        "FP=488\n",
        "TP=1111\n",
        "accuracy_knn=(TP+TN)/(TP+TN+FN+FP)\n",
        "print(accuracy_knn*100)"
      ],
      "metadata": {
        "colab": {
          "base_uri": "https://localhost:8080/"
        },
        "id": "r9MF9bFd_kmM",
        "outputId": "a84c84b5-fc5c-4103-c461-edd71e196519"
      },
      "execution_count": 575,
      "outputs": [
        {
          "output_type": "stream",
          "name": "stdout",
          "text": [
            "69.85753561609597\n"
          ]
        }
      ]
    },
    {
      "cell_type": "code",
      "source": [
        "from sklearn.ensemble import RandomForestClassifier\n",
        "random=RandomForestClassifier()\n",
        "random.fit(training_data,y_train)"
      ],
      "metadata": {
        "colab": {
          "base_uri": "https://localhost:8080/"
        },
        "id": "PZ9BkqTE_sll",
        "outputId": "a9309035-0fbe-457a-81a5-163272ab608d"
      },
      "execution_count": 576,
      "outputs": [
        {
          "output_type": "stream",
          "name": "stderr",
          "text": [
            "/usr/local/lib/python3.7/dist-packages/ipykernel_launcher.py:3: DataConversionWarning: A column-vector y was passed when a 1d array was expected. Please change the shape of y to (n_samples,), for example using ravel().\n",
            "  This is separate from the ipykernel package so we can avoid doing imports until\n"
          ]
        },
        {
          "output_type": "execute_result",
          "data": {
            "text/plain": [
              "RandomForestClassifier()"
            ]
          },
          "metadata": {},
          "execution_count": 576
        }
      ]
    },
    {
      "cell_type": "code",
      "source": [
        "y_pred=random.predict(testing_data)\n",
        "y_pred"
      ],
      "metadata": {
        "colab": {
          "base_uri": "https://localhost:8080/"
        },
        "id": "oHNSCMEWAHAz",
        "outputId": "ed14fdaa-1b69-4df2-f817-b97307629b46"
      },
      "execution_count": 577,
      "outputs": [
        {
          "output_type": "execute_result",
          "data": {
            "text/plain": [
              "array(['1', '0', '0', ..., '0', '0', '1'], dtype=object)"
            ]
          },
          "metadata": {},
          "execution_count": 577
        }
      ]
    },
    {
      "cell_type": "code",
      "source": [
        "np.set_printoptions(precision=2)\n",
        "\n",
        "print(np.concatenate((y_pred.reshape(len(y_pred),1),y_test.reshape(len(y_test),1)),1))"
      ],
      "metadata": {
        "colab": {
          "base_uri": "https://localhost:8080/"
        },
        "id": "B39hmrr9ALPG",
        "outputId": "1171b902-a970-4281-f792-7e5c48792c20"
      },
      "execution_count": 578,
      "outputs": [
        {
          "output_type": "stream",
          "name": "stdout",
          "text": [
            "[['1' '0']\n",
            " ['0' '0']\n",
            " ['0' '1']\n",
            " ...\n",
            " ['0' '0']\n",
            " ['0' '0']\n",
            " ['1' '1']]\n"
          ]
        }
      ]
    },
    {
      "cell_type": "code",
      "source": [
        "print(\"predicted value for training data:\",random.score(training_data,y_train))\n",
        "print(\"predicted value for testing data:\",random.score(testing_data,y_test))"
      ],
      "metadata": {
        "colab": {
          "base_uri": "https://localhost:8080/"
        },
        "id": "9H8C2vL9ANvT",
        "outputId": "182aa66c-f58f-4931-8670-4591a25b297f"
      },
      "execution_count": 579,
      "outputs": [
        {
          "output_type": "stream",
          "name": "stdout",
          "text": [
            "predicted value for training data: 0.9956875\n",
            "predicted value for testing data: 0.9217695576105973\n"
          ]
        }
      ]
    },
    {
      "cell_type": "code",
      "source": [
        "from sklearn.metrics import confusion_matrix,accuracy_score\n",
        "cm = confusion_matrix(y_test, y_pred)\n",
        "print(cm)\n",
        "print(accuracy_score(y_test, y_pred))#TN FN FP TP"
      ],
      "metadata": {
        "colab": {
          "base_uri": "https://localhost:8080/"
        },
        "id": "A89ZKF8WAVqH",
        "outputId": "ba1c30b5-c119-4809-c900-9b3a24837739"
      },
      "execution_count": 580,
      "outputs": [
        {
          "output_type": "stream",
          "name": "stdout",
          "text": [
            "[[2180  222]\n",
            " [  91 1508]]\n",
            "0.9217695576105973\n"
          ]
        }
      ]
    },
    {
      "cell_type": "code",
      "source": [
        "TN=2180\n",
        "FN=222\n",
        "FP=88\n",
        "TP=1511\n",
        "accuracy_random=(TP+TN)/(TP+TN+FN+FP)\n",
        "print(accuracy_random*100)"
      ],
      "metadata": {
        "colab": {
          "base_uri": "https://localhost:8080/"
        },
        "id": "8OpUcMKqAaAy",
        "outputId": "dbb3eb61-6541-43a8-93f6-b0d487bed2e3"
      },
      "execution_count": 581,
      "outputs": [
        {
          "output_type": "stream",
          "name": "stdout",
          "text": [
            "92.25193701574607\n"
          ]
        }
      ]
    },
    {
      "cell_type": "code",
      "source": [
        "from sklearn.svm import SVC\n",
        "svm=SVC()\n",
        "svm.fit(training_data,y_train)"
      ],
      "metadata": {
        "colab": {
          "base_uri": "https://localhost:8080/"
        },
        "id": "KfX0htKaAvhB",
        "outputId": "99d15b8e-4f2f-4e8f-e0ec-a3b2ce598965"
      },
      "execution_count": 582,
      "outputs": [
        {
          "output_type": "stream",
          "name": "stderr",
          "text": [
            "/usr/local/lib/python3.7/dist-packages/sklearn/utils/validation.py:993: DataConversionWarning: A column-vector y was passed when a 1d array was expected. Please change the shape of y to (n_samples, ), for example using ravel().\n",
            "  y = column_or_1d(y, warn=True)\n"
          ]
        },
        {
          "output_type": "execute_result",
          "data": {
            "text/plain": [
              "SVC()"
            ]
          },
          "metadata": {},
          "execution_count": 582
        }
      ]
    },
    {
      "cell_type": "code",
      "source": [
        "y_pred=svm.predict(testing_data)\n",
        "y_pred"
      ],
      "metadata": {
        "colab": {
          "base_uri": "https://localhost:8080/"
        },
        "id": "kwaDu8ZVDEZc",
        "outputId": "66b1fc80-558b-471c-adc9-ef93be3c9ab5"
      },
      "execution_count": 583,
      "outputs": [
        {
          "output_type": "execute_result",
          "data": {
            "text/plain": [
              "array(['1', '0', '0', ..., '0', '0', '1'], dtype=object)"
            ]
          },
          "metadata": {},
          "execution_count": 583
        }
      ]
    },
    {
      "cell_type": "code",
      "source": [
        "np.set_printoptions(precision=2)\n",
        "\n",
        "print(np.concatenate((y_pred.reshape(len(y_pred),1),y_test.reshape(len(y_test),1)),1))"
      ],
      "metadata": {
        "colab": {
          "base_uri": "https://localhost:8080/"
        },
        "id": "PgrVwUFPDLft",
        "outputId": "30f25f22-fea2-4d3d-e1fc-72da6065c5fd"
      },
      "execution_count": 584,
      "outputs": [
        {
          "output_type": "stream",
          "name": "stdout",
          "text": [
            "[['1' '0']\n",
            " ['0' '0']\n",
            " ['0' '1']\n",
            " ...\n",
            " ['0' '0']\n",
            " ['0' '0']\n",
            " ['1' '1']]\n"
          ]
        }
      ]
    },
    {
      "cell_type": "code",
      "source": [
        "print(\"predicted value for training data:\",svm.score(training_data,y_train))\n",
        "print(\"predicted value for testing data:\",svm.score(testing_data,y_test))"
      ],
      "metadata": {
        "colab": {
          "base_uri": "https://localhost:8080/"
        },
        "id": "tp-cut7LDPCc",
        "outputId": "03aacfea-de97-4196-df86-39a6ad4c9322"
      },
      "execution_count": 585,
      "outputs": [
        {
          "output_type": "stream",
          "name": "stdout",
          "text": [
            "predicted value for training data: 0.9600625\n",
            "predicted value for testing data: 0.8795301174706324\n"
          ]
        }
      ]
    },
    {
      "cell_type": "code",
      "source": [
        "from sklearn.metrics import confusion_matrix,accuracy_score\n",
        "cm = confusion_matrix(y_test, y_pred)\n",
        "print(cm)\n",
        "print(accuracy_score(y_test, y_pred))#TN FN FP TP"
      ],
      "metadata": {
        "colab": {
          "base_uri": "https://localhost:8080/"
        },
        "id": "vB6ZaUQLDZzk",
        "outputId": "2fb0e327-a811-43e6-e150-5ce0d3914eb4"
      },
      "execution_count": 586,
      "outputs": [
        {
          "output_type": "stream",
          "name": "stdout",
          "text": [
            "[[2114  288]\n",
            " [ 194 1405]]\n",
            "0.8795301174706324\n"
          ]
        }
      ]
    },
    {
      "cell_type": "code",
      "source": [
        "TN=2114\n",
        "FN=288\n",
        "FP=194\n",
        "TP=1405\n",
        "accuracy_svm=(TP+TN)/(TP+TN+FN+FP)\n",
        "print(accuracy_svm*100)"
      ],
      "metadata": {
        "colab": {
          "base_uri": "https://localhost:8080/"
        },
        "id": "aRyn8GLmDWOT",
        "outputId": "9121e930-8654-4f80-911b-86e75c571359"
      },
      "execution_count": 587,
      "outputs": [
        {
          "output_type": "stream",
          "name": "stdout",
          "text": [
            "87.95301174706324\n"
          ]
        }
      ]
    },
    {
      "cell_type": "code",
      "source": [
        "import matplotlib.pyplot as plt\n",
        "\n",
        "fig = plt.figure()\n",
        "\n",
        "ax = fig.add_axes([0,0,1,1])\n",
        "\n",
        "algo = ['Logistic regression','K Nearest Neighbors','Naive Bayes','SVM','Descision Tree','Random Forest']\n",
        "\n",
        "accuracy = [accuracy_logistic*100,accuracy_knn*100,accuracy_naive*100,accuracy_svm*100,accuracy_decision*100,accuracy_random*100]\n",
        "\n",
        "ax.bar(algo[0],accuracy[0],color = 'g')\n",
        "\n",
        "ax.bar(algo[1],accuracy[1],color = 'b')\n",
        "\n",
        "ax.bar(algo[2],accuracy[2],color = 'y')\n",
        "\n",
        "ax.bar(algo[3],accuracy[3],color = 'pink')\n",
        "\n",
        "ax.bar(algo[4],accuracy[4],color = 'orange')\n",
        "\n",
        "ax.bar(algo[5],accuracy[5],color = 'r')\n",
        "\n",
        "\n",
        "\n",
        "plt.xlabel('Classifiers ----->')\n",
        "\n",
        "plt.ylabel('Accuracies ---->')\n",
        "\n",
        "plt.title('ACCURACIES RESULTED')\n",
        "\n",
        "plt.show()"
      ],
      "metadata": {
        "colab": {
          "base_uri": "https://localhost:8080/",
          "height": 366
        },
        "id": "XJh1zTmGEAKb",
        "outputId": "db63fc8c-7601-4e8c-be57-1986f14d0b1f"
      },
      "execution_count": 602,
      "outputs": [
        {
          "output_type": "display_data",
          "data": {
            "text/plain": [
              "<Figure size 432x288 with 1 Axes>"
            ],
            "image/png": "[encoded data removed]"
          },
          "metadata": {
            "needs_background": "light"
          }
        }
      ]
    }
  ]
}