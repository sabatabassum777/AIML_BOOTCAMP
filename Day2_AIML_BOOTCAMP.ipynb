{
  "nbformat": 4,
  "nbformat_minor": 0,
  "metadata": {
    "colab": {
      "name": "Day2_AIML_BOOTCAMP.ipynb",
      "provenance": [],
      "collapsed_sections": [],
      "authorship_tag": "ABX9TyPUkghgb09/6dREqSbc18U2",
      "include_colab_link": true
    },
    "kernelspec": {
      "name": "python3",
      "display_name": "Python 3"
    },
    "language_info": {
      "name": "python"
    }
  },
  "cells": [
    {
      "cell_type": "markdown",
      "metadata": {
        "id": "view-in-github",
        "colab_type": "text"
      },
      "source": [
        "<a href=\"https://colab.research.google.com/github/sabatabassum777/AIML_BOOTCAMP/blob/main/Day2_AIML_BOOTCAMP.ipynb\" target=\"_parent\"><img src=\"https://colab.research.google.com/assets/colab-badge.svg\" alt=\"Open In Colab\"/></a>"
      ]
    },
    {
      "cell_type": "code",
      "source": [
        "#if statement\n",
        "var=100\n",
        "if var>0:\n",
        "  print(\"true\")\n",
        "  print(var)\n",
        "\n",
        "var1=0\n",
        "if var1>0:\n",
        "  print(\"true\")\n",
        "  print(var)\n",
        "\n",
        "#if else statement\n",
        "var2=-1\n",
        "if var2>0:\n",
        "  print(var2)\n",
        "else:\n",
        "  print(\"false\")\n",
        "  print(var2)"
      ],
      "metadata": {
        "id": "gH-tMMfarsoU"
      },
      "execution_count": null,
      "outputs": []
    },
    {
      "cell_type": "code",
      "source": [
        "#nested if\n",
        "#bus tickets\n",
        "age=int(input(\"enter age:\"))\n",
        "if age>12 and age<=18:\n",
        "  if age<15:\n",
        "    print(\"Quarter ticket implies\")\n",
        "  elif age==15:\n",
        "    print(\"Quarter ticket+ discount\")\n",
        "  else:\n",
        "    print(\"Half ticket\")\n",
        "elif age>=19 and age<=60:\n",
        "  print(\"full ticket\")\n",
        "elif age>60:\n",
        "  print(\"full ticket+discount\")\n",
        "else:\n",
        "  print(\"no ticket\")   "
      ],
      "metadata": {
        "colab": {
          "base_uri": "https://localhost:8080/"
        },
        "id": "FblwNYnltIND",
        "outputId": "6984ffb1-e067-4c27-f948-5d8cf58e8712"
      },
      "execution_count": 6,
      "outputs": [
        {
          "output_type": "stream",
          "name": "stdout",
          "text": [
            "enter age:99\n",
            "full ticket+discount\n"
          ]
        }
      ]
    },
    {
      "cell_type": "code",
      "source": [
        "#for loop\n",
        "number=[1,2,3,4,5]\n",
        "sum=0\n",
        "for val in number:\n",
        "  sum=sum+val\n",
        "print(\"the sum is \",sum)\n",
        "print(\"\\n\")"
      ],
      "metadata": {
        "colab": {
          "base_uri": "https://localhost:8080/"
        },
        "id": "m8eslKpjuG6U",
        "outputId": "48bc55f0-6e24-4327-bdf2-b01d0a8c8517"
      },
      "execution_count": 7,
      "outputs": [
        {
          "output_type": "stream",
          "name": "stdout",
          "text": [
            "the sum is  15\n",
            "\n",
            "\n"
          ]
        }
      ]
    },
    {
      "cell_type": "code",
      "source": [
        "#print 1 to 10\n",
        "for i in range(1,10):\n",
        "  print(i)"
      ],
      "metadata": {
        "colab": {
          "base_uri": "https://localhost:8080/"
        },
        "id": "abKNiAYPujQW",
        "outputId": "113e983a-2f56-4ae4-af7e-fe56ba3bacf2"
      },
      "execution_count": 9,
      "outputs": [
        {
          "output_type": "stream",
          "name": "stdout",
          "text": [
            "1\n",
            "2\n",
            "3\n",
            "4\n",
            "5\n",
            "6\n",
            "7\n",
            "8\n",
            "9\n"
          ]
        }
      ]
    },
    {
      "cell_type": "code",
      "source": [
        "for i in range(1,11,2):#alternate numbers start end(n+1)\n",
        "  print(i)\n",
        "\n",
        "x=[2,3,4,5,6,7,8]\n",
        "y=[]\n",
        "for  a in x:\n",
        "  if a%2==0:\n",
        "    y.append(a)\n",
        "print(y)\n",
        "print(\"\\n\")\n",
        "#using statement in for looop\n",
        "digits=[0,1,5]\n",
        "for i in digits:\n",
        "  print(i)\n",
        "else:\n",
        "  print(\"no items\")\n",
        "print(\"\\n\")\n",
        "\n",
        "for i in 'python':\n",
        "  print(\"current word:\",i)\n",
        "print(\"\\n\")\n",
        "#iterating by sequence indexing\n",
        "fruit=['apple','banana','kiwi','pineapple']\n",
        "for index in range(len(fruit)):\n",
        "  print(\"current fruits:\",fruit[index])"
      ],
      "metadata": {
        "colab": {
          "base_uri": "https://localhost:8080/"
        },
        "id": "3ef10yVnurfQ",
        "outputId": "3ee491b4-d69c-4cb4-e1b0-08c248de1bfc"
      },
      "execution_count": 16,
      "outputs": [
        {
          "output_type": "stream",
          "name": "stdout",
          "text": [
            "1\n",
            "3\n",
            "5\n",
            "7\n",
            "9\n",
            "[2, 4, 6, 8]\n",
            "\n",
            "\n",
            "0\n",
            "1\n",
            "5\n",
            "no items\n",
            "\n",
            "\n",
            "current word: p\n",
            "current word: y\n",
            "current word: t\n",
            "current word: h\n",
            "current word: o\n",
            "current word: n\n",
            "\n",
            "\n",
            "current fruits: apple\n",
            "current fruits: banana\n",
            "current fruits: kiwi\n",
            "current fruits: pineapple\n"
          ]
        }
      ]
    },
    {
      "cell_type": "code",
      "source": [
        "#while\n",
        "count=0\n",
        "while(count<11):\n",
        "  print(\"the count is\",count)\n",
        "  count=count+1\n",
        "print(\"\\n\")\n",
        "count=0\n",
        "while(count<5):\n",
        "  print(count,\"is less than 5\")\n",
        "  count=count+1"
      ],
      "metadata": {
        "colab": {
          "base_uri": "https://localhost:8080/"
        },
        "id": "G5HQS9uWv4i0",
        "outputId": "c33c69f2-53de-4d98-def5-cad8c38bfbd8"
      },
      "execution_count": 20,
      "outputs": [
        {
          "output_type": "stream",
          "name": "stdout",
          "text": [
            "the count is 0\n",
            "the count is 1\n",
            "the count is 2\n",
            "the count is 3\n",
            "the count is 4\n",
            "the count is 5\n",
            "the count is 6\n",
            "the count is 7\n",
            "the count is 8\n",
            "the count is 9\n",
            "the count is 10\n",
            "\n",
            "\n",
            "0 is less than 5\n",
            "1 is less than 5\n",
            "2 is less than 5\n",
            "3 is less than 5\n",
            "4 is less than 5\n"
          ]
        }
      ]
    },
    {
      "cell_type": "code",
      "source": [
        "var=1#infinite loop\n",
        "while var==1:\n",
        "  num=int(input(\"enter a number:\"))\n",
        "  print(\"new num:\",num)"
      ],
      "metadata": {
        "id": "B0pgzf3VxwsY"
      },
      "execution_count": null,
      "outputs": []
    },
    {
      "cell_type": "code",
      "source": [
        "var=1#infinite loop\n",
        "while(var<11):\n",
        "  print(\"hello\")"
      ],
      "metadata": {
        "id": "kkOYUDrAyfUa"
      },
      "execution_count": null,
      "outputs": []
    },
    {
      "cell_type": "code",
      "source": [
        "flag=1\n",
        "while(flag):\n",
        "      print(\"hello world\")"
      ],
      "metadata": {
        "id": "M160UtfCyf70"
      },
      "execution_count": null,
      "outputs": []
    },
    {
      "cell_type": "code",
      "execution_count": null,
      "metadata": {
        "colab": {
          "base_uri": "https://localhost:8080/"
        },
        "id": "lvp85AvxqOoH",
        "outputId": "489af67a-1138-4263-8e57-ff5bb58ef32a"
      },
      "outputs": [
        {
          "output_type": "stream",
          "name": "stdout",
          "text": [
            "[1, 4, 9]\n",
            "[16, 25, 36]\n",
            "[9, 4, 1]\n"
          ]
        }
      ],
      "source": [
        "x=[[1,2,3],[4,5,6],[3,2,1]]\n",
        "y=[[1,2,3],[4,5,6],[3,2,1]]\n",
        "res=[[0,0,0],[0,0,0],[0,0,0]]\n",
        "for i in range(len(x)):\n",
        "  for j in range(len(y)):\n",
        "    res[i][j]=x[i][j]*y[i][j]\n",
        "for r in res:\n",
        "  print(r)"
      ]
    },
    {
      "cell_type": "code",
      "source": [
        "x=[[1,2,3],[4,5,6],[3,2,1]]\n",
        "y=[[1,2,3],[4,5,6],[3,2,1]]\n",
        "res=[[0,0,0],[0,0,0],[0,0,0]]\n",
        "for i in range(len(x)):\n",
        "  for j in range(len(y)):\n",
        "    res[i][j]=x[i][j]-y[i][j]\n",
        "for r in res:\n",
        "  print(r)"
      ],
      "metadata": {
        "colab": {
          "base_uri": "https://localhost:8080/"
        },
        "id": "kKBSeZYOtpAm",
        "outputId": "b6eb777b-e081-4c48-c725-4baca39fcdf7"
      },
      "execution_count": null,
      "outputs": [
        {
          "output_type": "stream",
          "name": "stdout",
          "text": [
            "[0, 0, 0]\n",
            "[0, 0, 0]\n",
            "[0, 0, 0]\n"
          ]
        }
      ]
    },
    {
      "cell_type": "code",
      "source": [
        "x=[[1,2,3],[4,5,6],[3,2,1]]\n",
        "y=[[1,2,3],[4,5,6],[3,2,1]]\n",
        "res=[[0,0,0],[0,0,0],[0,0,0]]\n",
        "for i in range(len(x)):\n",
        "  for j in range(len(y)):\n",
        "    res[i][j]=x[i][j]*y[i][j]\n",
        "for i in range(len(x)):\n",
        "  for j in range(len(y)):\n",
        "    res[i][j]=res[j][i]\n",
        "for p in res:\n",
        "  print(p)"
      ],
      "metadata": {
        "colab": {
          "base_uri": "https://localhost:8080/"
        },
        "id": "fpb19Hx7tuV7",
        "outputId": "4ae16400-ea9f-4bc8-898e-f25801eab256"
      },
      "execution_count": null,
      "outputs": [
        {
          "output_type": "stream",
          "name": "stdout",
          "text": [
            "[1, 16, 9]\n",
            "[16, 25, 4]\n",
            "[9, 4, 1]\n"
          ]
        }
      ]
    },
    {
      "cell_type": "code",
      "source": [
        "num=int(input('enter till the table you want:'))\n",
        "i=1\n",
        "while(i<=num):\n",
        "  print(f\"table  {i}\")\n",
        "  j=1\n",
        "  while(j<=num):\n",
        "      print(f\" {i} *{j} = {i*j} \" )\n",
        "      j=j+1\n",
        "  print(\"---------------------\")\n",
        "  i=i+1"
      ],
      "metadata": {
        "colab": {
          "base_uri": "https://localhost:8080/"
        },
        "id": "DrMee12vvoJL",
        "outputId": "709742a4-39c1-4ce1-dc79-179c98f9b6a8"
      },
      "execution_count": null,
      "outputs": [
        {
          "output_type": "stream",
          "name": "stdout",
          "text": [
            "enter a number:10\n",
            "table  1\n",
            " 1 *1 = 1 \n",
            " 1 *2 = 2 \n",
            " 1 *3 = 3 \n",
            " 1 *4 = 4 \n",
            " 1 *5 = 5 \n",
            " 1 *6 = 6 \n",
            " 1 *7 = 7 \n",
            " 1 *8 = 8 \n",
            " 1 *9 = 9 \n",
            " 1 *10 = 10 \n",
            "---------------------\n",
            "table  2\n",
            " 2 *1 = 2 \n",
            " 2 *2 = 4 \n",
            " 2 *3 = 6 \n",
            " 2 *4 = 8 \n",
            " 2 *5 = 10 \n",
            " 2 *6 = 12 \n",
            " 2 *7 = 14 \n",
            " 2 *8 = 16 \n",
            " 2 *9 = 18 \n",
            " 2 *10 = 20 \n",
            "---------------------\n",
            "table  3\n",
            " 3 *1 = 3 \n",
            " 3 *2 = 6 \n",
            " 3 *3 = 9 \n",
            " 3 *4 = 12 \n",
            " 3 *5 = 15 \n",
            " 3 *6 = 18 \n",
            " 3 *7 = 21 \n",
            " 3 *8 = 24 \n",
            " 3 *9 = 27 \n",
            " 3 *10 = 30 \n",
            "---------------------\n",
            "table  4\n",
            " 4 *1 = 4 \n",
            " 4 *2 = 8 \n",
            " 4 *3 = 12 \n",
            " 4 *4 = 16 \n",
            " 4 *5 = 20 \n",
            " 4 *6 = 24 \n",
            " 4 *7 = 28 \n",
            " 4 *8 = 32 \n",
            " 4 *9 = 36 \n",
            " 4 *10 = 40 \n",
            "---------------------\n",
            "table  5\n",
            " 5 *1 = 5 \n",
            " 5 *2 = 10 \n",
            " 5 *3 = 15 \n",
            " 5 *4 = 20 \n",
            " 5 *5 = 25 \n",
            " 5 *6 = 30 \n",
            " 5 *7 = 35 \n",
            " 5 *8 = 40 \n",
            " 5 *9 = 45 \n",
            " 5 *10 = 50 \n",
            "---------------------\n",
            "table  6\n",
            " 6 *1 = 6 \n",
            " 6 *2 = 12 \n",
            " 6 *3 = 18 \n",
            " 6 *4 = 24 \n",
            " 6 *5 = 30 \n",
            " 6 *6 = 36 \n",
            " 6 *7 = 42 \n",
            " 6 *8 = 48 \n",
            " 6 *9 = 54 \n",
            " 6 *10 = 60 \n",
            "---------------------\n",
            "table  7\n",
            " 7 *1 = 7 \n",
            " 7 *2 = 14 \n",
            " 7 *3 = 21 \n",
            " 7 *4 = 28 \n",
            " 7 *5 = 35 \n",
            " 7 *6 = 42 \n",
            " 7 *7 = 49 \n",
            " 7 *8 = 56 \n",
            " 7 *9 = 63 \n",
            " 7 *10 = 70 \n",
            "---------------------\n",
            "table  8\n",
            " 8 *1 = 8 \n",
            " 8 *2 = 16 \n",
            " 8 *3 = 24 \n",
            " 8 *4 = 32 \n",
            " 8 *5 = 40 \n",
            " 8 *6 = 48 \n",
            " 8 *7 = 56 \n",
            " 8 *8 = 64 \n",
            " 8 *9 = 72 \n",
            " 8 *10 = 80 \n",
            "---------------------\n",
            "table  9\n",
            " 9 *1 = 9 \n",
            " 9 *2 = 18 \n",
            " 9 *3 = 27 \n",
            " 9 *4 = 36 \n",
            " 9 *5 = 45 \n",
            " 9 *6 = 54 \n",
            " 9 *7 = 63 \n",
            " 9 *8 = 72 \n",
            " 9 *9 = 81 \n",
            " 9 *10 = 90 \n",
            "---------------------\n",
            "table  10\n",
            " 10 *1 = 10 \n",
            " 10 *2 = 20 \n",
            " 10 *3 = 30 \n",
            " 10 *4 = 40 \n",
            " 10 *5 = 50 \n",
            " 10 *6 = 60 \n",
            " 10 *7 = 70 \n",
            " 10 *8 = 80 \n",
            " 10 *9 = 90 \n",
            " 10 *10 = 100 \n",
            "---------------------\n"
          ]
        }
      ]
    },
    {
      "cell_type": "code",
      "source": [
        "for l in 'python':\n",
        "  if l=='t':\n",
        "    pass\n",
        "    print(\"this is a pass block\")\n",
        "  print(l)\n",
        "\n",
        "num=10\n",
        "while(num!=0):\n",
        "  if(num<=5):\n",
        "      break\n",
        "  print(num)\n",
        "  num=num-1\n",
        "  "
      ],
      "metadata": {
        "colab": {
          "base_uri": "https://localhost:8080/"
        },
        "id": "wagrXbAC5m81",
        "outputId": "ab5217a3-7c6c-469d-e489-2d59780a3c08"
      },
      "execution_count": null,
      "outputs": [
        {
          "output_type": "stream",
          "name": "stdout",
          "text": [
            "p\n",
            "y\n",
            "this is a pass block\n",
            "t\n",
            "h\n",
            "o\n",
            "n\n",
            "10\n",
            "9\n",
            "8\n",
            "7\n",
            "6\n"
          ]
        }
      ]
    },
    {
      "cell_type": "code",
      "source": [
        "#palindrome-way1\n",
        "str1=input(\"enter a string:\")\n",
        "str2=str1[::-1]\n",
        "if(str1==str2):\n",
        "  print(\"Palindrome\")\n",
        "else:\n",
        "  print(\"Not a Palindrome\")"
      ],
      "metadata": {
        "colab": {
          "base_uri": "https://localhost:8080/"
        },
        "id": "fm6M3E5ozCqx",
        "outputId": "3fb6fd82-1402-42f1-8cab-cb06689a280b"
      },
      "execution_count": 32,
      "outputs": [
        {
          "output_type": "stream",
          "name": "stdout",
          "text": [
            "enter a string:madam\n",
            "Palindrome\n"
          ]
        }
      ]
    },
    {
      "cell_type": "code",
      "source": [
        "#palindrome number\n",
        "num=int(input(\"enter a number:\"))\n",
        "temp=num\n",
        "rev=0\n",
        "while(num>0):\n",
        "  n=num%10\n",
        "  rev=rev*10+n\n",
        "  num=num//10\n",
        "if(temp==rev):\n",
        "  print(\"Palindrome\")\n",
        "else:\n",
        "  print(\"Not a palindrome\")\n",
        "print(temp)\n",
        "print(rev)"
      ],
      "metadata": {
        "colab": {
          "base_uri": "https://localhost:8080/"
        },
        "id": "Iz_uNfBUzZ1K",
        "outputId": "cc5c306c-36f0-4c30-8e84-fcbe7a816ff5"
      },
      "execution_count": 44,
      "outputs": [
        {
          "output_type": "stream",
          "name": "stdout",
          "text": [
            "enter a number:121\n",
            "Palindrome\n",
            "121\n",
            "121\n"
          ]
        }
      ]
    },
    {
      "cell_type": "code",
      "source": [
        "str=input(\"enter a string:\")#-way3\n",
        "str2=reversed(str)\n",
        "if list(str)==list(str2):\n",
        "  print(\"Palindrome\")\n",
        "else:\n",
        "  print(\"Not a Palindrome\")\n"
      ],
      "metadata": {
        "colab": {
          "base_uri": "https://localhost:8080/"
        },
        "id": "CUDUr79a5sMs",
        "outputId": "f56a321e-518b-4d7a-b36c-17e798dd8562"
      },
      "execution_count": null,
      "outputs": [
        {
          "output_type": "stream",
          "name": "stdout",
          "text": [
            "enter a string:madam\n",
            "Palindrome\n"
          ]
        }
      ]
    },
    {
      "cell_type": "code",
      "source": [
        "#control statements\n",
        "for i in 'python':\n",
        "  if i=='t':\n",
        "    break\n",
        "  print(i)\n",
        "print(\"\\n\")\n",
        "int1=10\n",
        "while(int1>0):\n",
        "  print(\"current value:\",int1)\n",
        "  int1=int1-1\n",
        "  if int1==5:\n",
        "    continue\n",
        "    print(\"\\n\")\n",
        "int1=10\n",
        "while(int1>0):\n",
        "  print(\"current value:\",int1)\n",
        "  int1=int1-1\n",
        "  if int1==5:\n",
        "    pass\n",
        "    print(\"this is a pass block\")"
      ],
      "metadata": {
        "colab": {
          "base_uri": "https://localhost:8080/"
        },
        "id": "tlGnREIV2Y1y",
        "outputId": "d99407e0-6f3a-4c9c-ec2d-8950809b385e"
      },
      "execution_count": 53,
      "outputs": [
        {
          "output_type": "stream",
          "name": "stdout",
          "text": [
            "p\n",
            "y\n",
            "\n",
            "\n",
            "current value: 10\n",
            "current value: 9\n",
            "current value: 8\n",
            "current value: 7\n",
            "current value: 6\n",
            "current value: 5\n",
            "current value: 4\n",
            "current value: 3\n",
            "current value: 2\n",
            "current value: 1\n",
            "current value: 10\n",
            "current value: 9\n",
            "current value: 8\n",
            "current value: 7\n",
            "current value: 6\n",
            "this is a pass block\n",
            "current value: 5\n",
            "current value: 4\n",
            "current value: 3\n",
            "current value: 2\n",
            "current value: 1\n"
          ]
        }
      ]
    },
    {
      "cell_type": "code",
      "source": [
        "for i in range(1,101):\n",
        "  str1=str(i)\n",
        "  if(str1==str1[::-1]):\n",
        "    print(\"palindrome numbers is :{}\",i)"
      ],
      "metadata": {
        "colab": {
          "base_uri": "https://localhost:8080/"
        },
        "id": "uDkm3Wq34Oii",
        "outputId": "c6485624-0dc2-45b7-c8fb-372dafe54e3c"
      },
      "execution_count": 70,
      "outputs": [
        {
          "output_type": "stream",
          "name": "stdout",
          "text": [
            "palindrome numbers is :{} 1\n",
            "palindrome numbers is :{} 2\n",
            "palindrome numbers is :{} 3\n",
            "palindrome numbers is :{} 4\n",
            "palindrome numbers is :{} 5\n",
            "palindrome numbers is :{} 6\n",
            "palindrome numbers is :{} 7\n",
            "palindrome numbers is :{} 8\n",
            "palindrome numbers is :{} 9\n",
            "palindrome numbers is :{} 11\n",
            "palindrome numbers is :{} 22\n",
            "palindrome numbers is :{} 33\n",
            "palindrome numbers is :{} 44\n",
            "palindrome numbers is :{} 55\n",
            "palindrome numbers is :{} 66\n",
            "palindrome numbers is :{} 77\n",
            "palindrome numbers is :{} 88\n",
            "palindrome numbers is :{} 99\n"
          ]
        }
      ]
    },
    {
      "cell_type": "code",
      "source": [
        "l=[2,3,4,5,6,7,8,9]\n",
        "for i in l:\n",
        "  if i%2==0:\n",
        "    print(\"even numbers;\",i)\n",
        "  else:\n",
        "    print(\"odd numbers:\",i)"
      ],
      "metadata": {
        "colab": {
          "base_uri": "https://localhost:8080/"
        },
        "id": "m1LLerjJ5Uj3",
        "outputId": "ce6b1e60-fb28-4d6d-d01b-6a525a27b8df"
      },
      "execution_count": 68,
      "outputs": [
        {
          "output_type": "stream",
          "name": "stdout",
          "text": [
            "even numbers; 2\n",
            "odd numbers: 3\n",
            "even numbers; 4\n",
            "odd numbers: 5\n",
            "even numbers; 6\n",
            "odd numbers: 7\n",
            "even numbers; 8\n",
            "odd numbers: 9\n"
          ]
        }
      ]
    },
    {
      "cell_type": "code",
      "source": [
        "country=[\"Finland\",\"Germany\",\"Sweden\",\"Ireland\",\"Turkey\"]\n",
        "list1=[]\n",
        "for i in country:\n",
        "    if('and' in i):\n",
        "      list1.append(i)\n",
        "print(list1)\n"
      ],
      "metadata": {
        "colab": {
          "base_uri": "https://localhost:8080/"
        },
        "id": "wp6EKxnhAFx8",
        "outputId": "4bf70b32-2f7b-4b6d-be65-823559a2225d"
      },
      "execution_count": null,
      "outputs": [
        {
          "output_type": "stream",
          "name": "stdout",
          "text": [
            "['Finland', 'Ireland']\n"
          ]
        }
      ]
    },
    {
      "cell_type": "code",
      "source": [
        "a=50\n",
        "b=80\n",
        "c=50\n",
        "avg=(a+b+c)/3\n",
        "if(avg>=90):\n",
        "  print(\"A+\")\n",
        "elif(avg>=80 and avg<90):\n",
        "  print(\"A\")\n",
        "elif(avg>=70 and avg<80):\n",
        "  print(\"B\")\n",
        "elif(avg>=60 and avg<70):\n",
        "  print(\"C\")\n",
        "else:\n",
        "  print(\"F\")"
      ],
      "metadata": {
        "colab": {
          "base_uri": "https://localhost:8080/"
        },
        "id": "W6NAiBD3BSob",
        "outputId": "76c84fa3-7f3e-4686-ff8b-44f9ac04b0e1"
      },
      "execution_count": null,
      "outputs": [
        {
          "output_type": "stream",
          "name": "stdout",
          "text": [
            "C\n"
          ]
        }
      ]
    },
    {
      "cell_type": "code",
      "source": [
        "c=[\"Delhi\",\"Telangana\",\"Goa\",\"Ap\",\"Kerala\"]\n",
        "str1=\" \"\n",
        "for i in c:\n",
        "  str1+=i[0].lower()+i[-1].upper()\n",
        "print(str1)"
      ],
      "metadata": {
        "colab": {
          "base_uri": "https://localhost:8080/"
        },
        "id": "TVfCYrf8FxUb",
        "outputId": "066201df-4af7-4299-8159-01c2f34369dd"
      },
      "execution_count": null,
      "outputs": [
        {
          "output_type": "stream",
          "name": "stdout",
          "text": [
            " dItAgAaPkA\n"
          ]
        }
      ]
    },
    {
      "cell_type": "code",
      "source": [
        "def  greet(name):\n",
        "  print(\"hello \"+name+ \" good morning\")\n",
        "greet(\"saba\")"
      ],
      "metadata": {
        "colab": {
          "base_uri": "https://localhost:8080/"
        },
        "id": "kj1Wu06qbkOK",
        "outputId": "84b66f23-c9f3-444a-cb85-5ab7746108af"
      },
      "execution_count": null,
      "outputs": [
        {
          "output_type": "stream",
          "name": "stdout",
          "text": [
            "hello saba good morning\n"
          ]
        }
      ]
    },
    {
      "cell_type": "code",
      "source": [
        "#keyword\n",
        "def A(a,b=1,c=2):\n",
        "  return a+b+c\n",
        "print(A(a=2,b=3))"
      ],
      "metadata": {
        "colab": {
          "base_uri": "https://localhost:8080/"
        },
        "id": "oAQXVkcG7He6",
        "outputId": "427cf382-6c8a-48e3-d432-a6d84faf49c3"
      },
      "execution_count": 71,
      "outputs": [
        {
          "output_type": "stream",
          "name": "stdout",
          "text": [
            "7\n"
          ]
        }
      ]
    },
    {
      "cell_type": "code",
      "source": [
        "#positional keyword\n",
        "def add(a,b,c):\n",
        "  return a+b+c\n",
        "print(add(a=10,b=20,c=30))\n",
        "print(add(2,3,4))"
      ],
      "metadata": {
        "colab": {
          "base_uri": "https://localhost:8080/"
        },
        "id": "WO7OLKqEci6a",
        "outputId": "75487412-56d5-437a-ab9d-d8799f3265dc"
      },
      "execution_count": null,
      "outputs": [
        {
          "output_type": "stream",
          "name": "stdout",
          "text": [
            "60\n",
            "9\n"
          ]
        }
      ]
    },
    {
      "cell_type": "code",
      "source": [
        "#arbitary keyword\n",
        "def key_arg(**kargs):\n",
        "  return kargs\n",
        "my_dict=key_arg(apples=10,orange=20,mango=50)\n",
        "print(my_dict)"
      ],
      "metadata": {
        "colab": {
          "base_uri": "https://localhost:8080/"
        },
        "id": "9ehuz4ujcx7i",
        "outputId": "36d86aeb-22d0-4748-89b0-ee30572b7e04"
      },
      "execution_count": null,
      "outputs": [
        {
          "output_type": "stream",
          "name": "stdout",
          "text": [
            "{'apples': 10, 'orange': 20, 'mango': 50}\n"
          ]
        }
      ]
    },
    {
      "cell_type": "code",
      "source": [
        "#arbitary position\n",
        "def add_num(*n):\n",
        "  print(n)\n",
        "  print(sum(n))\n",
        "add_num(1,2,3,4,5)"
      ],
      "metadata": {
        "colab": {
          "base_uri": "https://localhost:8080/"
        },
        "id": "ucfk9pCPdZ7N",
        "outputId": "def5a63f-7920-4861-ba68-515937e61795"
      },
      "execution_count": null,
      "outputs": [
        {
          "output_type": "stream",
          "name": "stdout",
          "text": [
            "(1, 2, 3, 4, 5)\n",
            "15\n"
          ]
        }
      ]
    },
    {
      "cell_type": "code",
      "source": [
        "#higher order function\n",
        "def shout(text):\n",
        "  return text.upper()\n",
        "\n",
        "def whisper(text):\n",
        "  return text.lower()\n",
        "\n",
        "def explain(func):\n",
        "  greet=func(\"hi, iam higher order funnction\")\n",
        "  print(greet)\n",
        "explain(shout)\n",
        "explain(whisper)"
      ],
      "metadata": {
        "colab": {
          "base_uri": "https://localhost:8080/"
        },
        "id": "TQrzi_zyeXWJ",
        "outputId": "2d175267-b9b6-4771-bf2a-ae5749cb296c"
      },
      "execution_count": null,
      "outputs": [
        {
          "output_type": "stream",
          "name": "stdout",
          "text": [
            "HI, IAM HIGHER ORDER FUNNCTION\n",
            "hi, iam higher order funnction\n"
          ]
        }
      ]
    },
    {
      "cell_type": "code",
      "source": [
        "#lambda\n",
        "def incr(x):\n",
        "  x=x+1\n",
        "  return x\n",
        "print(incr(4))\n",
        "\n",
        "print((lambda x:x+1)(4))\n",
        "res=lambda x:x+1\n",
        "print(res(4))"
      ],
      "metadata": {
        "colab": {
          "base_uri": "https://localhost:8080/"
        },
        "id": "P9qwXTBffuQx",
        "outputId": "cbe7238a-ffd3-44dd-ab67-b7312532b818"
      },
      "execution_count": null,
      "outputs": [
        {
          "output_type": "stream",
          "name": "stdout",
          "text": [
            "5\n",
            "5\n",
            "5\n"
          ]
        }
      ]
    },
    {
      "cell_type": "code",
      "source": [
        "li=[1,2,3,4,5,6,7,8,9,10]\n",
        "print(list(map(lambda x:x%2,li)))"
      ],
      "metadata": {
        "colab": {
          "base_uri": "https://localhost:8080/"
        },
        "id": "7HDPKL5xhvRz",
        "outputId": "70a9199c-5984-45d2-f1e8-664bbe903a32"
      },
      "execution_count": null,
      "outputs": [
        {
          "output_type": "stream",
          "name": "stdout",
          "text": [
            "[1, 0, 1, 0, 1, 0, 1, 0, 1, 0]\n"
          ]
        }
      ]
    },
    {
      "cell_type": "code",
      "source": [
        "def eor(num):\n",
        "  if num%2==0:\n",
        "    print(\"{} is evven\".format(num))\n",
        "  else:\n",
        "    print(\"{} is odd\".format(num))\n",
        "eor(20)\n",
        "\n",
        "\n",
        "list(map(eor,li))"
      ],
      "metadata": {
        "colab": {
          "base_uri": "https://localhost:8080/"
        },
        "id": "RSI_7K3yiQ2N",
        "outputId": "5d0964cf-02b5-48e7-b7bd-f97296eeeab7"
      },
      "execution_count": 75,
      "outputs": [
        {
          "output_type": "stream",
          "name": "stdout",
          "text": [
            "20 is evven\n",
            "1 is odd\n",
            "2 is evven\n",
            "3 is odd\n",
            "4 is evven\n",
            "5 is odd\n",
            "6 is evven\n",
            "7 is odd\n",
            "8 is evven\n",
            "9 is odd\n",
            "10 is evven\n"
          ]
        },
        {
          "output_type": "execute_result",
          "data": {
            "text/plain": [
              "[None, None, None, None, None, None, None, None, None, None]"
            ]
          },
          "metadata": {},
          "execution_count": 75
        }
      ]
    },
    {
      "cell_type": "code",
      "source": [
        "li=[\"apple\",\"banana\",\"grapes\"]\n",
        "print(list(map(lambda x:x.capitalize(),li)))"
      ],
      "metadata": {
        "colab": {
          "base_uri": "https://localhost:8080/"
        },
        "id": "wwaE-R4yitzz",
        "outputId": "e3c27646-18f3-4cc7-d39e-a1c37e05c911"
      },
      "execution_count": null,
      "outputs": [
        {
          "output_type": "stream",
          "name": "stdout",
          "text": [
            "['Apple', 'Banana', 'Grapes']\n"
          ]
        }
      ]
    },
    {
      "cell_type": "code",
      "source": [
        "#filter\n",
        "def odd_num(n):\n",
        "  if n%2!=0:\n",
        "    return n%2\n",
        "my_list=[9,26,35,-2,50]\n",
        "print(list(filter(odd_num,my_list)))\n",
        "\n",
        "\n",
        "my_list=[10,20,30,40,50,60,70,80,99,899,599]\n",
        "temp=list(filter(lambda x:x%2==0,my_list))\n",
        "print(temp)"
      ],
      "metadata": {
        "id": "QzSmj9HtjsGB",
        "colab": {
          "base_uri": "https://localhost:8080/"
        },
        "outputId": "b9cb40e5-94a3-4bdf-b715-4a3ba8f4af3a"
      },
      "execution_count": 80,
      "outputs": [
        {
          "output_type": "stream",
          "name": "stdout",
          "text": [
            "[9, 35]\n",
            "[10, 20, 30, 40, 50, 60, 70, 80]\n"
          ]
        }
      ]
    },
    {
      "cell_type": "code",
      "source": [
        "#modules\n",
        "import os\n",
        "os.mkdir(\"hi\")\n",
        "os.getcwd()\n",
        "os.listdir()\n"
      ],
      "metadata": {
        "colab": {
          "base_uri": "https://localhost:8080/"
        },
        "id": "yBjqW5Lj8q76",
        "outputId": "41023dca-e053-413c-a6db-748c5e6d6de8"
      },
      "execution_count": 81,
      "outputs": [
        {
          "output_type": "execute_result",
          "data": {
            "text/plain": [
              "['.config', 'hi', 'sample_data']"
            ]
          },
          "metadata": {},
          "execution_count": 81
        }
      ]
    },
    {
      "cell_type": "code",
      "source": [
        "#math module\n",
        "import math as m\n",
        "print(m.pi)\n",
        "print(m.sqrt(25))\n",
        "print(m.factorial(5))\n",
        "print(m.floor(24.5))\n",
        "print(m.ceil(24.5))\n",
        "print(m.tan(4))\n",
        "print(m.log(2))\n",
        "print(m.pow(2,5))"
      ],
      "metadata": {
        "colab": {
          "base_uri": "https://localhost:8080/"
        },
        "id": "AkYQ-jwC843G",
        "outputId": "bec701a0-748c-40e4-a9d3-1ea4c9e53c87"
      },
      "execution_count": 85,
      "outputs": [
        {
          "output_type": "stream",
          "name": "stdout",
          "text": [
            "3.141592653589793\n",
            "5.0\n",
            "120\n",
            "24\n",
            "25\n",
            "1.1578212823495775\n",
            "0.6931471805599453\n",
            "32.0\n"
          ]
        }
      ]
    },
    {
      "cell_type": "code",
      "source": [
        "#sys module\n",
        "import sys as s\n",
        "print(s.path)\n",
        "print(s.version)\n",
        "print(s.maxsize)"
      ],
      "metadata": {
        "colab": {
          "base_uri": "https://localhost:8080/"
        },
        "id": "aKXjMsY89OR-",
        "outputId": "2788dca6-b843-4bad-d690-67e3f62ee048"
      },
      "execution_count": 86,
      "outputs": [
        {
          "output_type": "stream",
          "name": "stdout",
          "text": [
            "['', '/content', '/env/python', '/usr/lib/python37.zip', '/usr/lib/python3.7', '/usr/lib/python3.7/lib-dynload', '/usr/local/lib/python3.7/dist-packages', '/usr/lib/python3/dist-packages', '/usr/local/lib/python3.7/dist-packages/IPython/extensions', '/root/.ipython']\n",
            "3.7.13 (default, Apr 24 2022, 01:04:09) \n",
            "[GCC 7.5.0]\n",
            "9223372036854775807\n"
          ]
        }
      ]
    },
    {
      "cell_type": "code",
      "source": [
        "#statistic module\n",
        "import statistics as s\n",
        "print(s.mean([1,2,3]))\n",
        "print(s.median([12,45,67]))\n",
        "print(s.mode([1,2,3,1,1]))\n",
        "      "
      ],
      "metadata": {
        "colab": {
          "base_uri": "https://localhost:8080/"
        },
        "id": "kSXVbedb9ks6",
        "outputId": "6f25b530-7133-4622-a969-d94894a72fb8"
      },
      "execution_count": 88,
      "outputs": [
        {
          "output_type": "stream",
          "name": "stdout",
          "text": [
            "2\n",
            "45\n",
            "1\n"
          ]
        }
      ]
    },
    {
      "cell_type": "code",
      "source": [
        "# time module\n",
        "import time\n",
        "print(time.time())\n",
        "print(time.localtime())"
      ],
      "metadata": {
        "colab": {
          "base_uri": "https://localhost:8080/"
        },
        "id": "H6MgKrpK99lu",
        "outputId": "1342bd22-58ac-404f-800f-1c2f4de5a1b8"
      },
      "execution_count": 89,
      "outputs": [
        {
          "output_type": "stream",
          "name": "stdout",
          "text": [
            "1655222853.5660923\n",
            "time.struct_time(tm_year=2022, tm_mon=6, tm_mday=14, tm_hour=16, tm_min=7, tm_sec=33, tm_wday=1, tm_yday=165, tm_isdst=0)\n"
          ]
        }
      ]
    },
    {
      "cell_type": "code",
      "source": [
        "#random module\n",
        "import random as r\n",
        "print(r.randrange(1,100))\n",
        "print(r.randint(1,100))\n",
        "print(r.random())"
      ],
      "metadata": {
        "colab": {
          "base_uri": "https://localhost:8080/"
        },
        "id": "whuFLcTk-KT2",
        "outputId": "85d1812d-0847-461f-9e8e-c221803b35f1"
      },
      "execution_count": 91,
      "outputs": [
        {
          "output_type": "stream",
          "name": "stdout",
          "text": [
            "73\n",
            "17\n",
            "0.8993159047983157\n"
          ]
        }
      ]
    },
    {
      "cell_type": "code",
      "source": [
        "#guess game\n",
        "import random\n",
        "guess_num=random.randrange(1,5)\n",
        "num=int(input(\"enter a number:\"))\n",
        "if(guess_num==num):\n",
        "  print(\"you won !!\")\n",
        "else:\n",
        "  print(\"you lost\")"
      ],
      "metadata": {
        "colab": {
          "base_uri": "https://localhost:8080/"
        },
        "id": "K3y-5i1a-bKw",
        "outputId": "60ebfa6f-f6b6-4509-d81d-309ee2c31a7b"
      },
      "execution_count": 106,
      "outputs": [
        {
          "output_type": "stream",
          "name": "stdout",
          "text": [
            "enter a number:3\n",
            "you won !!\n"
          ]
        }
      ]
    },
    {
      "cell_type": "markdown",
      "source": [
        "Write a python progrm that remove items that are multiples of 5 from list li=[1,2,,5,6,7,10,15,25,65,78,90]"
      ],
      "metadata": {
        "id": "dt_iJKO1_keN"
      }
    },
    {
      "cell_type": "code",
      "source": [
        "li=[1,2,5,6,7,10,15,25,65,78,90]\n",
        "l2=[]\n",
        "for l in li:\n",
        "  if l%5==0:\n",
        "    l2.append(l)\n",
        "print(l2)\n",
        "\n",
        "\n",
        "\n",
        "li=[1,2,5,6,7,10,15,25,65,78,90]\n",
        "l2=[]\n",
        "for l in li:\n",
        "  if l%5==0:\n",
        "    l2.append(l)\n",
        "    li.remove(l)\n",
        "\n",
        "print(li)\n",
        "\n",
        "\n"
      ],
      "metadata": {
        "colab": {
          "base_uri": "https://localhost:8080/"
        },
        "id": "GiTa_fYV-4lD",
        "outputId": "a73d078d-b584-4678-c400-725d1f5cfbbb"
      },
      "execution_count": 110,
      "outputs": [
        {
          "output_type": "stream",
          "name": "stdout",
          "text": [
            "[5, 10, 15, 25, 65, 90]\n",
            "[1, 2, 6, 7, 15, 65, 78]\n"
          ]
        }
      ]
    }
  ]
}